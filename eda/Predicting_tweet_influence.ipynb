{
 "cells": [
  {
   "cell_type": "code",
   "execution_count": 1,
   "metadata": {},
   "outputs": [],
   "source": [
    "import json\n",
    "import pandas as pd\n",
    "from nltk.sentiment.vader import SentimentIntensityAnalyzer\n",
    "import numpy as np"
   ]
  },
  {
   "cell_type": "code",
   "execution_count": 2,
   "metadata": {},
   "outputs": [],
   "source": [
    "data = [json.loads(line) for line in open(\"concatenated_abridged.jsonl\", 'r', encoding='utf-8')]\n",
    "df = pd.DataFrame(data)"
   ]
  },
  {
   "cell_type": "code",
   "execution_count": 3,
   "metadata": {},
   "outputs": [
    {
     "data": {
      "text/html": [
       "<div>\n",
       "<style scoped>\n",
       "    .dataframe tbody tr th:only-of-type {\n",
       "        vertical-align: middle;\n",
       "    }\n",
       "\n",
       "    .dataframe tbody tr th {\n",
       "        vertical-align: top;\n",
       "    }\n",
       "\n",
       "    .dataframe thead th {\n",
       "        text-align: right;\n",
       "    }\n",
       "</style>\n",
       "<table border=\"1\" class=\"dataframe\">\n",
       "  <thead>\n",
       "    <tr style=\"text-align: right;\">\n",
       "      <th></th>\n",
       "      <th>id</th>\n",
       "      <th>id_str</th>\n",
       "      <th>name</th>\n",
       "      <th>screen_name</th>\n",
       "      <th>location</th>\n",
       "      <th>description</th>\n",
       "      <th>url</th>\n",
       "      <th>entities</th>\n",
       "      <th>protected</th>\n",
       "      <th>followers_count</th>\n",
       "      <th>...</th>\n",
       "      <th>profile_text_color</th>\n",
       "      <th>profile_use_background_image</th>\n",
       "      <th>has_extended_profile</th>\n",
       "      <th>default_profile</th>\n",
       "      <th>default_profile_image</th>\n",
       "      <th>following</th>\n",
       "      <th>follow_request_sent</th>\n",
       "      <th>notifications</th>\n",
       "      <th>translator_type</th>\n",
       "      <th>withheld_in_countries</th>\n",
       "    </tr>\n",
       "  </thead>\n",
       "  <tbody>\n",
       "    <tr>\n",
       "      <th>0</th>\n",
       "      <td>117904481</td>\n",
       "      <td>117904481</td>\n",
       "      <td>SharonS</td>\n",
       "      <td>sfshores53</td>\n",
       "      <td>America</td>\n",
       "      <td>Conservative/#MAGA/ #WWG1WGA /MbrNRA/#Trump202...</td>\n",
       "      <td>None</td>\n",
       "      <td>{'description': {'urls': []}}</td>\n",
       "      <td>False</td>\n",
       "      <td>4065</td>\n",
       "      <td>...</td>\n",
       "      <td>3C3940</td>\n",
       "      <td>True</td>\n",
       "      <td>False</td>\n",
       "      <td>False</td>\n",
       "      <td>False</td>\n",
       "      <td>False</td>\n",
       "      <td>False</td>\n",
       "      <td>False</td>\n",
       "      <td>none</td>\n",
       "      <td>NaN</td>\n",
       "    </tr>\n",
       "    <tr>\n",
       "      <th>1</th>\n",
       "      <td>30140760</td>\n",
       "      <td>30140760</td>\n",
       "      <td>🌊🇨🇦Lizbeth 🇨🇦🌊</td>\n",
       "      <td>ProudCdn100</td>\n",
       "      <td>Canada</td>\n",
       "      <td>Canadian 🇨🇦 Windmill Cancer Survivor. I follow...</td>\n",
       "      <td>None</td>\n",
       "      <td>{'description': {'urls': []}}</td>\n",
       "      <td>False</td>\n",
       "      <td>31031</td>\n",
       "      <td>...</td>\n",
       "      <td>3E4415</td>\n",
       "      <td>True</td>\n",
       "      <td>True</td>\n",
       "      <td>False</td>\n",
       "      <td>False</td>\n",
       "      <td>False</td>\n",
       "      <td>False</td>\n",
       "      <td>False</td>\n",
       "      <td>none</td>\n",
       "      <td>NaN</td>\n",
       "    </tr>\n",
       "    <tr>\n",
       "      <th>2</th>\n",
       "      <td>281610530</td>\n",
       "      <td>281610530</td>\n",
       "      <td>Varney &amp; Co.</td>\n",
       "      <td>Varneyco</td>\n",
       "      <td>New York</td>\n",
       "      <td>Airing Weekdays at 9AM ET on the Fox Business ...</td>\n",
       "      <td>https://t.co/UT25ycG2zy</td>\n",
       "      <td>{'url': {'urls': [{'url': 'https://t.co/UT25yc...</td>\n",
       "      <td>False</td>\n",
       "      <td>663539</td>\n",
       "      <td>...</td>\n",
       "      <td>333333</td>\n",
       "      <td>True</td>\n",
       "      <td>False</td>\n",
       "      <td>False</td>\n",
       "      <td>False</td>\n",
       "      <td>False</td>\n",
       "      <td>False</td>\n",
       "      <td>False</td>\n",
       "      <td>none</td>\n",
       "      <td>NaN</td>\n",
       "    </tr>\n",
       "    <tr>\n",
       "      <th>3</th>\n",
       "      <td>88223320</td>\n",
       "      <td>88223320</td>\n",
       "      <td>Grace Panetta</td>\n",
       "      <td>grace_panetta</td>\n",
       "      <td>New York, NY</td>\n",
       "      <td>Politics reporter covering elections &amp; voting ...</td>\n",
       "      <td>https://t.co/N9qln5XbI6</td>\n",
       "      <td>{'url': {'urls': [{'url': 'https://t.co/N9qln5...</td>\n",
       "      <td>False</td>\n",
       "      <td>21737</td>\n",
       "      <td>...</td>\n",
       "      <td>000000</td>\n",
       "      <td>False</td>\n",
       "      <td>True</td>\n",
       "      <td>False</td>\n",
       "      <td>False</td>\n",
       "      <td>False</td>\n",
       "      <td>False</td>\n",
       "      <td>False</td>\n",
       "      <td>none</td>\n",
       "      <td>NaN</td>\n",
       "    </tr>\n",
       "    <tr>\n",
       "      <th>4</th>\n",
       "      <td>44295160</td>\n",
       "      <td>44295160</td>\n",
       "      <td>SuSu Clarkson</td>\n",
       "      <td>susuclarkson</td>\n",
       "      <td>Kentucky/Florida</td>\n",
       "      <td>wife, mother, grandmother, southerner, conserv...</td>\n",
       "      <td>None</td>\n",
       "      <td>{'description': {'urls': []}}</td>\n",
       "      <td>False</td>\n",
       "      <td>893</td>\n",
       "      <td>...</td>\n",
       "      <td>362720</td>\n",
       "      <td>True</td>\n",
       "      <td>True</td>\n",
       "      <td>False</td>\n",
       "      <td>False</td>\n",
       "      <td>False</td>\n",
       "      <td>False</td>\n",
       "      <td>False</td>\n",
       "      <td>none</td>\n",
       "      <td>NaN</td>\n",
       "    </tr>\n",
       "    <tr>\n",
       "      <th>...</th>\n",
       "      <td>...</td>\n",
       "      <td>...</td>\n",
       "      <td>...</td>\n",
       "      <td>...</td>\n",
       "      <td>...</td>\n",
       "      <td>...</td>\n",
       "      <td>...</td>\n",
       "      <td>...</td>\n",
       "      <td>...</td>\n",
       "      <td>...</td>\n",
       "      <td>...</td>\n",
       "      <td>...</td>\n",
       "      <td>...</td>\n",
       "      <td>...</td>\n",
       "      <td>...</td>\n",
       "      <td>...</td>\n",
       "      <td>...</td>\n",
       "      <td>...</td>\n",
       "      <td>...</td>\n",
       "      <td>...</td>\n",
       "      <td>...</td>\n",
       "    </tr>\n",
       "    <tr>\n",
       "      <th>140332</th>\n",
       "      <td>27780458</td>\n",
       "      <td>27780458</td>\n",
       "      <td>Average Joe Patriot</td>\n",
       "      <td>matt_aho</td>\n",
       "      <td>Washington, USA</td>\n",
       "      <td>I’m just your average fed up &amp; fired up Americ...</td>\n",
       "      <td>None</td>\n",
       "      <td>{'description': {'urls': []}}</td>\n",
       "      <td>False</td>\n",
       "      <td>413</td>\n",
       "      <td>...</td>\n",
       "      <td>000000</td>\n",
       "      <td>False</td>\n",
       "      <td>False</td>\n",
       "      <td>False</td>\n",
       "      <td>False</td>\n",
       "      <td>False</td>\n",
       "      <td>False</td>\n",
       "      <td>False</td>\n",
       "      <td>none</td>\n",
       "      <td>NaN</td>\n",
       "    </tr>\n",
       "    <tr>\n",
       "      <th>140333</th>\n",
       "      <td>1081132982449119232</td>\n",
       "      <td>1081132982449119232</td>\n",
       "      <td>Tidoodoo</td>\n",
       "      <td>tidoodoo</td>\n",
       "      <td>decentralized</td>\n",
       "      <td>Connecting with you\\nThank you ^-^\\n\\n🌎🇫🇷🐸1️⃣7️⃣</td>\n",
       "      <td>None</td>\n",
       "      <td>{'description': {'urls': []}}</td>\n",
       "      <td>False</td>\n",
       "      <td>382</td>\n",
       "      <td>...</td>\n",
       "      <td>333333</td>\n",
       "      <td>True</td>\n",
       "      <td>False</td>\n",
       "      <td>True</td>\n",
       "      <td>False</td>\n",
       "      <td>False</td>\n",
       "      <td>False</td>\n",
       "      <td>False</td>\n",
       "      <td>none</td>\n",
       "      <td>NaN</td>\n",
       "    </tr>\n",
       "    <tr>\n",
       "      <th>140334</th>\n",
       "      <td>2290692901</td>\n",
       "      <td>2290692901</td>\n",
       "      <td>Scorpion Killer</td>\n",
       "      <td>hatenscorpions</td>\n",
       "      <td></td>\n",
       "      <td>Making moves for change</td>\n",
       "      <td>None</td>\n",
       "      <td>{'description': {'urls': []}}</td>\n",
       "      <td>False</td>\n",
       "      <td>119</td>\n",
       "      <td>...</td>\n",
       "      <td>333333</td>\n",
       "      <td>True</td>\n",
       "      <td>False</td>\n",
       "      <td>True</td>\n",
       "      <td>False</td>\n",
       "      <td>False</td>\n",
       "      <td>False</td>\n",
       "      <td>False</td>\n",
       "      <td>none</td>\n",
       "      <td>NaN</td>\n",
       "    </tr>\n",
       "    <tr>\n",
       "      <th>140335</th>\n",
       "      <td>1931084401</td>\n",
       "      <td>1931084401</td>\n",
       "      <td>RuthieRedSox</td>\n",
       "      <td>RuthieRedSox</td>\n",
       "      <td>New Hampshire</td>\n",
       "      <td>Retired Navy Pilot &amp; proud Naval Academy gradu...</td>\n",
       "      <td>None</td>\n",
       "      <td>{'description': {'urls': []}}</td>\n",
       "      <td>False</td>\n",
       "      <td>67360</td>\n",
       "      <td>...</td>\n",
       "      <td>333333</td>\n",
       "      <td>True</td>\n",
       "      <td>True</td>\n",
       "      <td>True</td>\n",
       "      <td>False</td>\n",
       "      <td>False</td>\n",
       "      <td>False</td>\n",
       "      <td>False</td>\n",
       "      <td>none</td>\n",
       "      <td>NaN</td>\n",
       "    </tr>\n",
       "    <tr>\n",
       "      <th>140336</th>\n",
       "      <td>721732612918616065</td>\n",
       "      <td>721732612918616065</td>\n",
       "      <td>Eric 🏌🏻</td>\n",
       "      <td>1Putt4Me</td>\n",
       "      <td>Memphis, TN</td>\n",
       "      <td></td>\n",
       "      <td>None</td>\n",
       "      <td>{'description': {'urls': []}}</td>\n",
       "      <td>False</td>\n",
       "      <td>397</td>\n",
       "      <td>...</td>\n",
       "      <td>333333</td>\n",
       "      <td>True</td>\n",
       "      <td>False</td>\n",
       "      <td>True</td>\n",
       "      <td>False</td>\n",
       "      <td>False</td>\n",
       "      <td>False</td>\n",
       "      <td>False</td>\n",
       "      <td>none</td>\n",
       "      <td>NaN</td>\n",
       "    </tr>\n",
       "  </tbody>\n",
       "</table>\n",
       "<p>140337 rows × 45 columns</p>\n",
       "</div>"
      ],
      "text/plain": [
       "                         id               id_str                 name  \\\n",
       "0                 117904481            117904481              SharonS   \n",
       "1                  30140760             30140760       🌊🇨🇦Lizbeth 🇨🇦🌊   \n",
       "2                 281610530            281610530         Varney & Co.   \n",
       "3                  88223320             88223320        Grace Panetta   \n",
       "4                  44295160             44295160        SuSu Clarkson   \n",
       "...                     ...                  ...                  ...   \n",
       "140332             27780458             27780458  Average Joe Patriot   \n",
       "140333  1081132982449119232  1081132982449119232             Tidoodoo   \n",
       "140334           2290692901           2290692901      Scorpion Killer   \n",
       "140335           1931084401           1931084401         RuthieRedSox   \n",
       "140336   721732612918616065   721732612918616065              Eric 🏌🏻   \n",
       "\n",
       "           screen_name          location  \\\n",
       "0           sfshores53          America    \n",
       "1          ProudCdn100            Canada   \n",
       "2             Varneyco          New York   \n",
       "3        grace_panetta      New York, NY   \n",
       "4         susuclarkson  Kentucky/Florida   \n",
       "...                ...               ...   \n",
       "140332        matt_aho   Washington, USA   \n",
       "140333        tidoodoo     decentralized   \n",
       "140334  hatenscorpions                     \n",
       "140335    RuthieRedSox     New Hampshire   \n",
       "140336        1Putt4Me       Memphis, TN   \n",
       "\n",
       "                                              description  \\\n",
       "0       Conservative/#MAGA/ #WWG1WGA /MbrNRA/#Trump202...   \n",
       "1       Canadian 🇨🇦 Windmill Cancer Survivor. I follow...   \n",
       "2       Airing Weekdays at 9AM ET on the Fox Business ...   \n",
       "3       Politics reporter covering elections & voting ...   \n",
       "4       wife, mother, grandmother, southerner, conserv...   \n",
       "...                                                   ...   \n",
       "140332  I’m just your average fed up & fired up Americ...   \n",
       "140333   Connecting with you\\nThank you ^-^\\n\\n🌎🇫🇷🐸1️⃣7️⃣   \n",
       "140334                            Making moves for change   \n",
       "140335  Retired Navy Pilot & proud Naval Academy gradu...   \n",
       "140336                                                      \n",
       "\n",
       "                            url  \\\n",
       "0                          None   \n",
       "1                          None   \n",
       "2       https://t.co/UT25ycG2zy   \n",
       "3       https://t.co/N9qln5XbI6   \n",
       "4                          None   \n",
       "...                         ...   \n",
       "140332                     None   \n",
       "140333                     None   \n",
       "140334                     None   \n",
       "140335                     None   \n",
       "140336                     None   \n",
       "\n",
       "                                                 entities  protected  \\\n",
       "0                           {'description': {'urls': []}}      False   \n",
       "1                           {'description': {'urls': []}}      False   \n",
       "2       {'url': {'urls': [{'url': 'https://t.co/UT25yc...      False   \n",
       "3       {'url': {'urls': [{'url': 'https://t.co/N9qln5...      False   \n",
       "4                           {'description': {'urls': []}}      False   \n",
       "...                                                   ...        ...   \n",
       "140332                      {'description': {'urls': []}}      False   \n",
       "140333                      {'description': {'urls': []}}      False   \n",
       "140334                      {'description': {'urls': []}}      False   \n",
       "140335                      {'description': {'urls': []}}      False   \n",
       "140336                      {'description': {'urls': []}}      False   \n",
       "\n",
       "        followers_count  ...  profile_text_color  \\\n",
       "0                  4065  ...              3C3940   \n",
       "1                 31031  ...              3E4415   \n",
       "2                663539  ...              333333   \n",
       "3                 21737  ...              000000   \n",
       "4                   893  ...              362720   \n",
       "...                 ...  ...                 ...   \n",
       "140332              413  ...              000000   \n",
       "140333              382  ...              333333   \n",
       "140334              119  ...              333333   \n",
       "140335            67360  ...              333333   \n",
       "140336              397  ...              333333   \n",
       "\n",
       "        profile_use_background_image has_extended_profile  default_profile  \\\n",
       "0                               True                False            False   \n",
       "1                               True                 True            False   \n",
       "2                               True                False            False   \n",
       "3                              False                 True            False   \n",
       "4                               True                 True            False   \n",
       "...                              ...                  ...              ...   \n",
       "140332                         False                False            False   \n",
       "140333                          True                False             True   \n",
       "140334                          True                False             True   \n",
       "140335                          True                 True             True   \n",
       "140336                          True                False             True   \n",
       "\n",
       "       default_profile_image following  follow_request_sent  notifications  \\\n",
       "0                      False     False                False          False   \n",
       "1                      False     False                False          False   \n",
       "2                      False     False                False          False   \n",
       "3                      False     False                False          False   \n",
       "4                      False     False                False          False   \n",
       "...                      ...       ...                  ...            ...   \n",
       "140332                 False     False                False          False   \n",
       "140333                 False     False                False          False   \n",
       "140334                 False     False                False          False   \n",
       "140335                 False     False                False          False   \n",
       "140336                 False     False                False          False   \n",
       "\n",
       "        translator_type withheld_in_countries  \n",
       "0                  none                   NaN  \n",
       "1                  none                   NaN  \n",
       "2                  none                   NaN  \n",
       "3                  none                   NaN  \n",
       "4                  none                   NaN  \n",
       "...                 ...                   ...  \n",
       "140332             none                   NaN  \n",
       "140333             none                   NaN  \n",
       "140334             none                   NaN  \n",
       "140335             none                   NaN  \n",
       "140336             none                   NaN  \n",
       "\n",
       "[140337 rows x 45 columns]"
      ]
     },
     "execution_count": 3,
     "metadata": {},
     "output_type": "execute_result"
    }
   ],
   "source": [
    "user = df.user.apply(pd.Series)\n",
    "user"
   ]
  },
  {
   "cell_type": "code",
   "execution_count": 4,
   "metadata": {},
   "outputs": [],
   "source": [
    "user = user[['id', \n",
    "             'name', \n",
    "             'screen_name', \n",
    "             'location', \n",
    "             'description', \n",
    "             'followers_count', \n",
    "             'friends_count', \n",
    "             'listed_count',\n",
    "             'created_at',\n",
    "             'favourites_count',\n",
    "             'verified',\n",
    "             'statuses_count',\n",
    "             'lang'\n",
    "            ]]"
   ]
  },
  {
   "cell_type": "code",
   "execution_count": 9,
   "metadata": {},
   "outputs": [],
   "source": [
    "df = df[['created_at',\n",
    "         'id',\n",
    "         'full_text',\n",
    "         'entities',\n",
    "         'retweeted_status',\n",
    "         'retweet_count',\n",
    "         'favorite_count',\n",
    "         'lang']]"
   ]
  },
  {
   "cell_type": "code",
   "execution_count": 10,
   "metadata": {},
   "outputs": [],
   "source": [
    "my_data = pd.concat([df, user], axis=1)"
   ]
  },
  {
   "cell_type": "markdown",
   "metadata": {},
   "source": [
    "# extracting original tweets"
   ]
  },
  {
   "cell_type": "code",
   "execution_count": 11,
   "metadata": {},
   "outputs": [],
   "source": [
    "original_tweets = my_data[my_data['retweeted_status'].isnull()]"
   ]
  },
  {
   "cell_type": "code",
   "execution_count": 12,
   "metadata": {},
   "outputs": [],
   "source": [
    "# 1. find tweets that mention Trump / Biden\n",
    "# 2. get influential score\n",
    "# 3. train a model for influential score prediction - user id, time of day, mention\n",
    "# 4. features ingeneering for influential score prediction"
   ]
  },
  {
   "cell_type": "code",
   "execution_count": 13,
   "metadata": {},
   "outputs": [],
   "source": [
    "from sklearn.preprocessing import Normalizer"
   ]
  },
  {
   "cell_type": "code",
   "execution_count": 14,
   "metadata": {
    "scrolled": true
   },
   "outputs": [
    {
     "name": "stderr",
     "output_type": "stream",
     "text": [
      "/opt/anaconda3/lib/python3.7/site-packages/ipykernel_launcher.py:1: SettingWithCopyWarning: \n",
      "A value is trying to be set on a copy of a slice from a DataFrame.\n",
      "Try using .loc[row_indexer,col_indexer] = value instead\n",
      "\n",
      "See the caveats in the documentation: https://pandas.pydata.org/pandas-docs/stable/user_guide/indexing.html#returning-a-view-versus-a-copy\n",
      "  \"\"\"Entry point for launching an IPython kernel.\n"
     ]
    }
   ],
   "source": [
    "original_tweets['retweets_norm'] = original_tweets.retweet_count.apply(lambda x: \n",
    "                                                                       (x - original_tweets.retweet_count.min())\n",
    "                                                                        /(original_tweets.retweet_count.max() \n",
    "                                                                          - original_tweets.retweet_count.min()))"
   ]
  },
  {
   "cell_type": "code",
   "execution_count": null,
   "metadata": {},
   "outputs": [],
   "source": [
    "original_tweets['favorite_norm'] = original_tweets.favorite_count.apply(lambda x: \n",
    "                                                                       (x - original_tweets.favorite_count.min())\n",
    "                                                                        /(original_tweets.favorite_count.max() \n",
    "                                                                          - original_tweets.favorite_count.min()))"
   ]
  },
  {
   "cell_type": "code",
   "execution_count": null,
   "metadata": {},
   "outputs": [],
   "source": [
    "original_tweets.T"
   ]
  },
  {
   "cell_type": "markdown",
   "metadata": {},
   "source": [
    "# building a model to predict tweet influence"
   ]
  },
  {
   "cell_type": "code",
   "execution_count": null,
   "metadata": {},
   "outputs": [],
   "source": [
    "X = original_tweets[['followers_count', \n",
    "                     'friends_count',\n",
    "                     'listed_count',\n",
    "                     'favourites_count',\n",
    "                     'statuses_count',\n",
    "                     ]]"
   ]
  },
  {
   "cell_type": "code",
   "execution_count": null,
   "metadata": {},
   "outputs": [],
   "source": [
    "y = original_tweets.retweets_norm + original_tweets.favorite_norm\n",
    "#y = original_tweets.retweet_count"
   ]
  },
  {
   "cell_type": "code",
   "execution_count": null,
   "metadata": {},
   "outputs": [],
   "source": [
    "y"
   ]
  },
  {
   "cell_type": "code",
   "execution_count": null,
   "metadata": {},
   "outputs": [],
   "source": [
    "X"
   ]
  },
  {
   "cell_type": "code",
   "execution_count": null,
   "metadata": {},
   "outputs": [],
   "source": [
    "from sklearn.ensemble import RandomForestRegressor\n",
    "from sklearn.linear_model import LinearRegression\n",
    "from sklearn.model_selection import train_test_split\n",
    "from sklearn.metrics import mean_squared_error"
   ]
  },
  {
   "cell_type": "code",
   "execution_count": null,
   "metadata": {},
   "outputs": [],
   "source": [
    "model = RandomForestRegressor()"
   ]
  },
  {
   "cell_type": "code",
   "execution_count": null,
   "metadata": {},
   "outputs": [],
   "source": [
    "X_train, X_test, y_train, y_test = train_test_split(X, y, test_size=0.33, random_state=42)"
   ]
  },
  {
   "cell_type": "code",
   "execution_count": null,
   "metadata": {},
   "outputs": [],
   "source": [
    "model.fit(X_train, y_train)"
   ]
  },
  {
   "cell_type": "code",
   "execution_count": null,
   "metadata": {},
   "outputs": [],
   "source": [
    "model.score(X_test, y_test)"
   ]
  },
  {
   "cell_type": "code",
   "execution_count": null,
   "metadata": {},
   "outputs": [],
   "source": [
    "y_pred = model.predict(X_test)"
   ]
  },
  {
   "cell_type": "code",
   "execution_count": null,
   "metadata": {},
   "outputs": [],
   "source": [
    "np.sqrt(mean_squared_error(y_test, y_pred))"
   ]
  },
  {
   "cell_type": "code",
   "execution_count": null,
   "metadata": {},
   "outputs": [],
   "source": [
    "from sklearn.tree import DecisionTreeRegressor"
   ]
  },
  {
   "cell_type": "code",
   "execution_count": null,
   "metadata": {},
   "outputs": [],
   "source": [
    "model_tree = DecisionTreeRegressor()"
   ]
  },
  {
   "cell_type": "code",
   "execution_count": null,
   "metadata": {},
   "outputs": [],
   "source": [
    "model_tree.fit(X_train, y_train)"
   ]
  },
  {
   "cell_type": "code",
   "execution_count": null,
   "metadata": {},
   "outputs": [],
   "source": [
    "y_pred_tree = model_tree.predict(X_test)"
   ]
  },
  {
   "cell_type": "code",
   "execution_count": null,
   "metadata": {},
   "outputs": [],
   "source": [
    "np.sqrt(mean_squared_error(y_pred_tree, y_pred))"
   ]
  },
  {
   "cell_type": "code",
   "execution_count": null,
   "metadata": {},
   "outputs": [],
   "source": [
    "model_tree.score(X_test, y_test)"
   ]
  },
  {
   "cell_type": "markdown",
   "metadata": {},
   "source": [
    "# checking our classifier"
   ]
  },
  {
   "cell_type": "code",
   "execution_count": null,
   "metadata": {},
   "outputs": [],
   "source": [
    "#y = original_tweets.retweets_norm + original_tweets.favorite_norm\n",
    "y = original_tweets.retweets_norm"
   ]
  },
  {
   "cell_type": "code",
   "execution_count": null,
   "metadata": {},
   "outputs": [],
   "source": [
    "y.hist()"
   ]
  },
  {
   "cell_type": "code",
   "execution_count": null,
   "metadata": {},
   "outputs": [],
   "source": [
    "y = y.apply(lambda a: 1 if a >0.0001 else 0)"
   ]
  },
  {
   "cell_type": "code",
   "execution_count": null,
   "metadata": {},
   "outputs": [],
   "source": []
  },
  {
   "cell_type": "code",
   "execution_count": null,
   "metadata": {},
   "outputs": [],
   "source": [
    "X_train, X_test, y_train, y_test = train_test_split(X, y)"
   ]
  },
  {
   "cell_type": "code",
   "execution_count": null,
   "metadata": {},
   "outputs": [],
   "source": [
    "y_train"
   ]
  },
  {
   "cell_type": "code",
   "execution_count": null,
   "metadata": {},
   "outputs": [],
   "source": [
    "from sklearn.tree import DecisionTreeClassifier"
   ]
  },
  {
   "cell_type": "code",
   "execution_count": null,
   "metadata": {},
   "outputs": [],
   "source": [
    "model_clas = DecisionTreeClassifier()"
   ]
  },
  {
   "cell_type": "code",
   "execution_count": null,
   "metadata": {},
   "outputs": [],
   "source": [
    "model_clas.fit(X_train, y_train)"
   ]
  },
  {
   "cell_type": "code",
   "execution_count": null,
   "metadata": {},
   "outputs": [],
   "source": [
    "y_pred_clas = model_clas.predict(X_test)"
   ]
  },
  {
   "cell_type": "code",
   "execution_count": null,
   "metadata": {},
   "outputs": [],
   "source": [
    "model_clas.score(X_test, y_test)"
   ]
  },
  {
   "cell_type": "code",
   "execution_count": null,
   "metadata": {},
   "outputs": [],
   "source": [
    "from sklearn.metrics import confusion_matrix"
   ]
  },
  {
   "cell_type": "code",
   "execution_count": null,
   "metadata": {},
   "outputs": [],
   "source": [
    "confusion_matrix(y_test, y_pred_clas)"
   ]
  },
  {
   "cell_type": "code",
   "execution_count": null,
   "metadata": {},
   "outputs": [],
   "source": [
    "tn, fp, fn, tp = confusion_matrix(y_test, y_pred_clas).ravel()"
   ]
  },
  {
   "cell_type": "code",
   "execution_count": null,
   "metadata": {},
   "outputs": [],
   "source": [
    "tn, fp, fn, tp"
   ]
  },
  {
   "cell_type": "code",
   "execution_count": null,
   "metadata": {},
   "outputs": [],
   "source": [
    "probs = model_clas.predict_proba(X_test)[:, 1]\n",
    "plt.hist(probs)"
   ]
  },
  {
   "cell_type": "code",
   "execution_count": null,
   "metadata": {},
   "outputs": [],
   "source": [
    "import matplotlib.pyplot as plt\n",
    "from sklearn.metrics import roc_curve"
   ]
  },
  {
   "cell_type": "code",
   "execution_count": null,
   "metadata": {},
   "outputs": [],
   "source": [
    "plt.style.use('fivethirtyeight')"
   ]
  },
  {
   "cell_type": "code",
   "execution_count": null,
   "metadata": {},
   "outputs": [],
   "source": [
    "y_pred_rf = model_clas.predict_proba(X_test)[:, 1]\n",
    "fpr_rf, tpr_rf, _ = roc_curve(y_test, y_pred_rf)\n",
    "\n",
    "plt.figure(1)\n",
    "plt.plot([0, 1], [0, 1], 'k--')\n",
    "plt.plot(fpr_rf, tpr_rf, label='RF')\n",
    "plt.xlabel('False positive rate')\n",
    "plt.ylabel('True positive rate')\n",
    "plt.title('ROC curve')\n",
    "plt.legend(loc='best')\n",
    "plt.show()"
   ]
  },
  {
   "cell_type": "code",
   "execution_count": null,
   "metadata": {},
   "outputs": [],
   "source": []
  }
 ],
 "metadata": {
  "kernelspec": {
   "display_name": "Python 3",
   "language": "python",
   "name": "python3"
  },
  "language_info": {
   "codemirror_mode": {
    "name": "ipython",
    "version": 3
   },
   "file_extension": ".py",
   "mimetype": "text/x-python",
   "name": "python",
   "nbconvert_exporter": "python",
   "pygments_lexer": "ipython3",
   "version": "3.7.6"
  }
 },
 "nbformat": 4,
 "nbformat_minor": 4
}
