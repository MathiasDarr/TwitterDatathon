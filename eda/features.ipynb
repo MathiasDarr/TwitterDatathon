{
 "cells": [
  {
   "cell_type": "code",
   "execution_count": 1,
   "metadata": {},
   "outputs": [],
   "source": [
    "import json\n",
    "import pandas as pd\n",
    "import matplotlib.pyplot as plt\n",
    "plt.style.use('fivethirtyeight')"
   ]
  },
  {
   "cell_type": "code",
   "execution_count": 2,
   "metadata": {},
   "outputs": [],
   "source": [
    "data = [json.loads(line) for line in open(\"./data/data.jsonl\", 'r', encoding='utf-8')]\n",
    "df = pd.DataFrame(data)"
   ]
  },
  {
   "cell_type": "markdown",
   "metadata": {
    "scrolled": true
   },
   "source": [
    "## Null Non-Null Summary DF"
   ]
  },
  {
   "cell_type": "code",
   "execution_count": 3,
   "metadata": {},
   "outputs": [
    {
     "data": {
      "text/html": [
       "<div>\n",
       "<style scoped>\n",
       "    .dataframe tbody tr th:only-of-type {\n",
       "        vertical-align: middle;\n",
       "    }\n",
       "\n",
       "    .dataframe tbody tr th {\n",
       "        vertical-align: top;\n",
       "    }\n",
       "\n",
       "    .dataframe thead th {\n",
       "        text-align: right;\n",
       "    }\n",
       "</style>\n",
       "<table border=\"1\" class=\"dataframe\">\n",
       "  <thead>\n",
       "    <tr style=\"text-align: right;\">\n",
       "      <th></th>\n",
       "      <th>feature</th>\n",
       "      <th>nulls</th>\n",
       "      <th>non_nulls</th>\n",
       "    </tr>\n",
       "  </thead>\n",
       "  <tbody>\n",
       "    <tr>\n",
       "      <th>0</th>\n",
       "      <td>created_at</td>\n",
       "      <td>0</td>\n",
       "      <td>140337</td>\n",
       "    </tr>\n",
       "    <tr>\n",
       "      <th>1</th>\n",
       "      <td>id</td>\n",
       "      <td>0</td>\n",
       "      <td>140337</td>\n",
       "    </tr>\n",
       "    <tr>\n",
       "      <th>2</th>\n",
       "      <td>id_str</td>\n",
       "      <td>0</td>\n",
       "      <td>140337</td>\n",
       "    </tr>\n",
       "    <tr>\n",
       "      <th>3</th>\n",
       "      <td>full_text</td>\n",
       "      <td>0</td>\n",
       "      <td>140337</td>\n",
       "    </tr>\n",
       "    <tr>\n",
       "      <th>4</th>\n",
       "      <td>truncated</td>\n",
       "      <td>0</td>\n",
       "      <td>140337</td>\n",
       "    </tr>\n",
       "    <tr>\n",
       "      <th>5</th>\n",
       "      <td>display_text_range</td>\n",
       "      <td>0</td>\n",
       "      <td>140337</td>\n",
       "    </tr>\n",
       "    <tr>\n",
       "      <th>6</th>\n",
       "      <td>entities</td>\n",
       "      <td>0</td>\n",
       "      <td>140337</td>\n",
       "    </tr>\n",
       "    <tr>\n",
       "      <th>7</th>\n",
       "      <td>source</td>\n",
       "      <td>0</td>\n",
       "      <td>140337</td>\n",
       "    </tr>\n",
       "    <tr>\n",
       "      <th>8</th>\n",
       "      <td>in_reply_to_status_id</td>\n",
       "      <td>121225</td>\n",
       "      <td>19112</td>\n",
       "    </tr>\n",
       "    <tr>\n",
       "      <th>9</th>\n",
       "      <td>in_reply_to_status_id_str</td>\n",
       "      <td>121225</td>\n",
       "      <td>19112</td>\n",
       "    </tr>\n",
       "    <tr>\n",
       "      <th>10</th>\n",
       "      <td>in_reply_to_user_id</td>\n",
       "      <td>120156</td>\n",
       "      <td>20181</td>\n",
       "    </tr>\n",
       "    <tr>\n",
       "      <th>11</th>\n",
       "      <td>in_reply_to_user_id_str</td>\n",
       "      <td>120156</td>\n",
       "      <td>20181</td>\n",
       "    </tr>\n",
       "    <tr>\n",
       "      <th>12</th>\n",
       "      <td>in_reply_to_screen_name</td>\n",
       "      <td>120156</td>\n",
       "      <td>20181</td>\n",
       "    </tr>\n",
       "    <tr>\n",
       "      <th>13</th>\n",
       "      <td>user</td>\n",
       "      <td>0</td>\n",
       "      <td>140337</td>\n",
       "    </tr>\n",
       "    <tr>\n",
       "      <th>14</th>\n",
       "      <td>geo</td>\n",
       "      <td>140335</td>\n",
       "      <td>2</td>\n",
       "    </tr>\n",
       "    <tr>\n",
       "      <th>15</th>\n",
       "      <td>coordinates</td>\n",
       "      <td>140335</td>\n",
       "      <td>2</td>\n",
       "    </tr>\n",
       "    <tr>\n",
       "      <th>16</th>\n",
       "      <td>place</td>\n",
       "      <td>139559</td>\n",
       "      <td>778</td>\n",
       "    </tr>\n",
       "    <tr>\n",
       "      <th>17</th>\n",
       "      <td>contributors</td>\n",
       "      <td>140337</td>\n",
       "      <td>0</td>\n",
       "    </tr>\n",
       "    <tr>\n",
       "      <th>18</th>\n",
       "      <td>is_quote_status</td>\n",
       "      <td>0</td>\n",
       "      <td>140337</td>\n",
       "    </tr>\n",
       "    <tr>\n",
       "      <th>19</th>\n",
       "      <td>quoted_status_id</td>\n",
       "      <td>115884</td>\n",
       "      <td>24453</td>\n",
       "    </tr>\n",
       "    <tr>\n",
       "      <th>20</th>\n",
       "      <td>quoted_status_id_str</td>\n",
       "      <td>115884</td>\n",
       "      <td>24453</td>\n",
       "    </tr>\n",
       "    <tr>\n",
       "      <th>21</th>\n",
       "      <td>quoted_status_permalink</td>\n",
       "      <td>115885</td>\n",
       "      <td>24452</td>\n",
       "    </tr>\n",
       "    <tr>\n",
       "      <th>22</th>\n",
       "      <td>quoted_status</td>\n",
       "      <td>132765</td>\n",
       "      <td>7572</td>\n",
       "    </tr>\n",
       "    <tr>\n",
       "      <th>23</th>\n",
       "      <td>retweet_count</td>\n",
       "      <td>0</td>\n",
       "      <td>140337</td>\n",
       "    </tr>\n",
       "    <tr>\n",
       "      <th>24</th>\n",
       "      <td>favorite_count</td>\n",
       "      <td>0</td>\n",
       "      <td>140337</td>\n",
       "    </tr>\n",
       "    <tr>\n",
       "      <th>25</th>\n",
       "      <td>favorited</td>\n",
       "      <td>0</td>\n",
       "      <td>140337</td>\n",
       "    </tr>\n",
       "    <tr>\n",
       "      <th>26</th>\n",
       "      <td>retweeted</td>\n",
       "      <td>0</td>\n",
       "      <td>140337</td>\n",
       "    </tr>\n",
       "    <tr>\n",
       "      <th>27</th>\n",
       "      <td>possibly_sensitive</td>\n",
       "      <td>108004</td>\n",
       "      <td>32333</td>\n",
       "    </tr>\n",
       "    <tr>\n",
       "      <th>28</th>\n",
       "      <td>lang</td>\n",
       "      <td>0</td>\n",
       "      <td>140337</td>\n",
       "    </tr>\n",
       "    <tr>\n",
       "      <th>29</th>\n",
       "      <td>retweeted_status</td>\n",
       "      <td>33437</td>\n",
       "      <td>106900</td>\n",
       "    </tr>\n",
       "    <tr>\n",
       "      <th>30</th>\n",
       "      <td>extended_entities</td>\n",
       "      <td>125709</td>\n",
       "      <td>14628</td>\n",
       "    </tr>\n",
       "    <tr>\n",
       "      <th>31</th>\n",
       "      <td>withheld_in_countries</td>\n",
       "      <td>140301</td>\n",
       "      <td>36</td>\n",
       "    </tr>\n",
       "  </tbody>\n",
       "</table>\n",
       "</div>"
      ],
      "text/plain": [
       "                      feature   nulls  non_nulls\n",
       "0                  created_at       0     140337\n",
       "1                          id       0     140337\n",
       "2                      id_str       0     140337\n",
       "3                   full_text       0     140337\n",
       "4                   truncated       0     140337\n",
       "5          display_text_range       0     140337\n",
       "6                    entities       0     140337\n",
       "7                      source       0     140337\n",
       "8       in_reply_to_status_id  121225      19112\n",
       "9   in_reply_to_status_id_str  121225      19112\n",
       "10        in_reply_to_user_id  120156      20181\n",
       "11    in_reply_to_user_id_str  120156      20181\n",
       "12    in_reply_to_screen_name  120156      20181\n",
       "13                       user       0     140337\n",
       "14                        geo  140335          2\n",
       "15                coordinates  140335          2\n",
       "16                      place  139559        778\n",
       "17               contributors  140337          0\n",
       "18            is_quote_status       0     140337\n",
       "19           quoted_status_id  115884      24453\n",
       "20       quoted_status_id_str  115884      24453\n",
       "21    quoted_status_permalink  115885      24452\n",
       "22              quoted_status  132765       7572\n",
       "23              retweet_count       0     140337\n",
       "24             favorite_count       0     140337\n",
       "25                  favorited       0     140337\n",
       "26                  retweeted       0     140337\n",
       "27         possibly_sensitive  108004      32333\n",
       "28                       lang       0     140337\n",
       "29           retweeted_status   33437     106900\n",
       "30          extended_entities  125709      14628\n",
       "31      withheld_in_countries  140301         36"
      ]
     },
     "execution_count": 3,
     "metadata": {},
     "output_type": "execute_result"
    }
   ],
   "source": [
    "nulls_dict = {'feature': list(df.columns)\n",
    "              , 'nulls': df.isna().sum().values\n",
    "              , 'non_nulls': df.notnull().sum().values\n",
    "             }\n",
    "nulls_df = pd.DataFrame(nulls_dict)\n",
    "nulls_df"
   ]
  },
  {
   "cell_type": "markdown",
   "metadata": {},
   "source": [
    "## EDA: Explore each feature for importnaces (* means use this feature)"
   ]
  },
  {
   "cell_type": "markdown",
   "metadata": {},
   "source": [
    "### created_at"
   ]
  },
  {
   "cell_type": "code",
   "execution_count": 4,
   "metadata": {},
   "outputs": [
    {
     "data": {
      "text/plain": [
       "str"
      ]
     },
     "execution_count": 4,
     "metadata": {},
     "output_type": "execute_result"
    }
   ],
   "source": [
    "type(df.created_at.iloc[0])"
   ]
  },
  {
   "cell_type": "code",
   "execution_count": 5,
   "metadata": {},
   "outputs": [],
   "source": [
    "# Seems like created_at is a timestamp column, create on with pd.to_datetime()\n",
    "df['datetime'] = pd.to_datetime(df.created_at)"
   ]
  },
  {
   "cell_type": "code",
   "execution_count": 6,
   "metadata": {},
   "outputs": [
    {
     "data": {
      "text/plain": [
       "0"
      ]
     },
     "execution_count": 6,
     "metadata": {},
     "output_type": "execute_result"
    }
   ],
   "source": [
    "# column has no nulls\n",
    "df.created_at.isna().sum()"
   ]
  },
  {
   "cell_type": "markdown",
   "metadata": {},
   "source": [
    "### *id and id_str"
   ]
  },
  {
   "cell_type": "code",
   "execution_count": 7,
   "metadata": {},
   "outputs": [],
   "source": [
    "# These two columns are the same, just one with numbers the other string"
   ]
  },
  {
   "cell_type": "code",
   "execution_count": 8,
   "metadata": {},
   "outputs": [
    {
     "data": {
      "text/plain": [
       "1311093385688735744"
      ]
     },
     "execution_count": 8,
     "metadata": {},
     "output_type": "execute_result"
    }
   ],
   "source": [
    "df.id.iloc[0]"
   ]
  },
  {
   "cell_type": "code",
   "execution_count": 9,
   "metadata": {
    "scrolled": true
   },
   "outputs": [
    {
     "data": {
      "text/plain": [
       "'1311093385688735744'"
      ]
     },
     "execution_count": 9,
     "metadata": {},
     "output_type": "execute_result"
    }
   ],
   "source": [
    "df.id_str.iloc[0]"
   ]
  },
  {
   "cell_type": "code",
   "execution_count": 10,
   "metadata": {},
   "outputs": [
    {
     "name": "stdout",
     "output_type": "stream",
     "text": [
      "0\n",
      "0\n"
     ]
    }
   ],
   "source": [
    "# columns have no nulls\n",
    "print(df.id.isna().sum())\n",
    "print(df.id_str.isna().sum())"
   ]
  },
  {
   "cell_type": "markdown",
   "metadata": {},
   "source": [
    "### *full_text"
   ]
  },
  {
   "cell_type": "code",
   "execution_count": 11,
   "metadata": {},
   "outputs": [
    {
     "data": {
      "text/plain": [
       "'Biden a professional debater??  Hardly!! More like a professional liar! https://t.co/cQuxzexXYt'"
      ]
     },
     "execution_count": 11,
     "metadata": {},
     "output_type": "execute_result"
    }
   ],
   "source": [
    "df.full_text[0]"
   ]
  },
  {
   "cell_type": "code",
   "execution_count": 12,
   "metadata": {},
   "outputs": [
    {
     "data": {
      "text/plain": [
       "0"
      ]
     },
     "execution_count": 12,
     "metadata": {},
     "output_type": "execute_result"
    }
   ],
   "source": [
    "# colum has no nulls\n",
    "df.full_text.isna().sum()"
   ]
  },
  {
   "cell_type": "markdown",
   "metadata": {},
   "source": [
    "### truncated"
   ]
  },
  {
   "cell_type": "code",
   "execution_count": 13,
   "metadata": {},
   "outputs": [
    {
     "data": {
      "text/plain": [
       "False"
      ]
     },
     "execution_count": 13,
     "metadata": {},
     "output_type": "execute_result"
    }
   ],
   "source": [
    "# boolean for truncated message\n",
    "df.truncated.iloc[0]"
   ]
  },
  {
   "cell_type": "code",
   "execution_count": 14,
   "metadata": {},
   "outputs": [
    {
     "data": {
      "text/plain": [
       "False    140337\n",
       "Name: truncated, dtype: int64"
      ]
     },
     "execution_count": 14,
     "metadata": {},
     "output_type": "execute_result"
    }
   ],
   "source": [
    "df.truncated.value_counts()"
   ]
  },
  {
   "cell_type": "code",
   "execution_count": 15,
   "metadata": {},
   "outputs": [
    {
     "data": {
      "text/plain": [
       "0"
      ]
     },
     "execution_count": 15,
     "metadata": {},
     "output_type": "execute_result"
    }
   ],
   "source": [
    "# truncated has not nulls\n",
    "df.truncated.isna().sum()"
   ]
  },
  {
   "cell_type": "markdown",
   "metadata": {},
   "source": [
    "### *display_text_range"
   ]
  },
  {
   "cell_type": "code",
   "execution_count": 16,
   "metadata": {},
   "outputs": [
    {
     "data": {
      "text/plain": [
       "[0, 71]"
      ]
     },
     "execution_count": 16,
     "metadata": {},
     "output_type": "execute_result"
    }
   ],
   "source": [
    "# length of text\n",
    "df.display_text_range.iloc[0]"
   ]
  },
  {
   "cell_type": "code",
   "execution_count": 17,
   "metadata": {},
   "outputs": [
    {
     "data": {
      "text/plain": [
       "0"
      ]
     },
     "execution_count": 17,
     "metadata": {},
     "output_type": "execute_result"
    }
   ],
   "source": [
    "# display_text_range has no nulls\n",
    "df.display_text_range.isna().sum()"
   ]
  },
  {
   "cell_type": "markdown",
   "metadata": {},
   "source": [
    "### *entities"
   ]
  },
  {
   "cell_type": "code",
   "execution_count": 18,
   "metadata": {},
   "outputs": [
    {
     "data": {
      "text/plain": [
       "{'hashtags': [],\n",
       " 'symbols': [],\n",
       " 'user_mentions': [],\n",
       " 'urls': [{'url': 'https://t.co/cQuxzexXYt',\n",
       "   'expanded_url': 'https://twitter.com/IngrahamAngle/status/1311081374510710784',\n",
       "   'display_url': 'twitter.com/IngrahamAngle/…',\n",
       "   'indices': [72, 95]}]}"
      ]
     },
     "execution_count": 18,
     "metadata": {},
     "output_type": "execute_result"
    }
   ],
   "source": [
    "# dictionary of user entities\n",
    "df.entities.iloc[0]"
   ]
  },
  {
   "cell_type": "code",
   "execution_count": 19,
   "metadata": {},
   "outputs": [
    {
     "data": {
      "text/plain": [
       "0"
      ]
     },
     "execution_count": 19,
     "metadata": {},
     "output_type": "execute_result"
    }
   ],
   "source": [
    "# entities has no nulls\n",
    "df.entities.isna().sum()"
   ]
  },
  {
   "cell_type": "markdown",
   "metadata": {},
   "source": [
    "### *source"
   ]
  },
  {
   "cell_type": "code",
   "execution_count": 20,
   "metadata": {},
   "outputs": [
    {
     "data": {
      "text/plain": [
       "'<a href=\"http://twitter.com/download/iphone\" rel=\"nofollow\">Twitter for iPhone</a>'"
      ]
     },
     "execution_count": 20,
     "metadata": {},
     "output_type": "execute_result"
    }
   ],
   "source": [
    "# source, mobile or web\n",
    "df.source.iloc[3]"
   ]
  },
  {
   "cell_type": "code",
   "execution_count": 21,
   "metadata": {},
   "outputs": [
    {
     "data": {
      "text/plain": [
       "<a href=\"http://twitter.com/download/iphone\" rel=\"nofollow\">Twitter for iPhone</a>      62080\n",
       "<a href=\"http://twitter.com/download/android\" rel=\"nofollow\">Twitter for Android</a>    38641\n",
       "<a href=\"https://mobile.twitter.com\" rel=\"nofollow\">Twitter Web App</a>                 29655\n",
       "<a href=\"http://twitter.com/#!/download/ipad\" rel=\"nofollow\">Twitter for iPad</a>        8046\n",
       "<a href=\"https://about.twitter.com/products/tweetdeck\" rel=\"nofollow\">TweetDeck</a>       459\n",
       "                                                                                        ...  \n",
       "<a href=\"https://pragmaticcode.com/linky/\" rel=\"nofollow\">Linky for iOS</a>                 1\n",
       "<a href=\"https://missinglettr.com\" rel=\"nofollow\">Missinglettr</a>                          1\n",
       "<a href=\"https://go-shopal.herokuapp.com\" rel=\"nofollow\">RedianDevBot</a>                   1\n",
       "<a href=\"https://app.sendible.com\" rel=\"nofollow\">Sendible</a>                              1\n",
       "<a href=\"http://www.akidthaine.com\" rel=\"nofollow\">Clickclickme</a>                         1\n",
       "Name: source, Length: 311, dtype: int64"
      ]
     },
     "execution_count": 21,
     "metadata": {},
     "output_type": "execute_result"
    }
   ],
   "source": [
    "df.source.value_counts()"
   ]
  },
  {
   "cell_type": "code",
   "execution_count": 22,
   "metadata": {},
   "outputs": [
    {
     "data": {
      "text/plain": [
       "311"
      ]
     },
     "execution_count": 22,
     "metadata": {},
     "output_type": "execute_result"
    }
   ],
   "source": [
    "# there are 311 types of Twitter sources\n",
    "len(df.source.value_counts())"
   ]
  },
  {
   "cell_type": "code",
   "execution_count": 23,
   "metadata": {},
   "outputs": [
    {
     "data": {
      "text/plain": [
       "0"
      ]
     },
     "execution_count": 23,
     "metadata": {},
     "output_type": "execute_result"
    }
   ],
   "source": [
    "# source has no nulls\n",
    "df.source.isna().sum()"
   ]
  },
  {
   "cell_type": "markdown",
   "metadata": {},
   "source": [
    "### in_reply_to_status_id  and  in_reply_to_status_id_str"
   ]
  },
  {
   "cell_type": "code",
   "execution_count": 24,
   "metadata": {},
   "outputs": [
    {
     "data": {
      "text/plain": [
       "11        1.311090e+18\n",
       "17        1.311092e+18\n",
       "24        1.311074e+18\n",
       "28        1.311034e+18\n",
       "35        1.311088e+18\n",
       "              ...     \n",
       "140303    1.312158e+18\n",
       "140307    1.312180e+18\n",
       "140311    1.312052e+18\n",
       "140324    1.312158e+18\n",
       "140333    1.312111e+18\n",
       "Name: in_reply_to_status_id, Length: 19112, dtype: float64"
      ]
     },
     "execution_count": 24,
     "metadata": {},
     "output_type": "execute_result"
    }
   ],
   "source": [
    "# Not sure what this is! a status id?\n",
    "df.in_reply_to_status_id[df.in_reply_to_status_id.notnull()]"
   ]
  },
  {
   "cell_type": "code",
   "execution_count": 25,
   "metadata": {},
   "outputs": [
    {
     "data": {
      "text/plain": [
       "1.3110897652576256e+18"
      ]
     },
     "execution_count": 25,
     "metadata": {},
     "output_type": "execute_result"
    }
   ],
   "source": [
    "df.in_reply_to_status_id.iloc[11]"
   ]
  },
  {
   "cell_type": "code",
   "execution_count": 26,
   "metadata": {},
   "outputs": [
    {
     "data": {
      "text/plain": [
       "numpy.float64"
      ]
     },
     "execution_count": 26,
     "metadata": {},
     "output_type": "execute_result"
    }
   ],
   "source": [
    "type(df.in_reply_to_status_id.iloc[11])"
   ]
  },
  {
   "cell_type": "code",
   "execution_count": 27,
   "metadata": {},
   "outputs": [
    {
     "data": {
      "text/plain": [
       "'1311089765257625600'"
      ]
     },
     "execution_count": 27,
     "metadata": {},
     "output_type": "execute_result"
    }
   ],
   "source": [
    "# string version of in_reply_to_status_id\n",
    "df.in_reply_to_status_id_str.iloc[11]"
   ]
  },
  {
   "cell_type": "code",
   "execution_count": 28,
   "metadata": {},
   "outputs": [
    {
     "data": {
      "text/plain": [
       "19"
      ]
     },
     "execution_count": 28,
     "metadata": {},
     "output_type": "execute_result"
    }
   ],
   "source": [
    "len(df.in_reply_to_status_id_str.iloc[11])"
   ]
  },
  {
   "cell_type": "code",
   "execution_count": 29,
   "metadata": {
    "scrolled": true
   },
   "outputs": [
    {
     "data": {
      "text/plain": [
       "121225"
      ]
     },
     "execution_count": 29,
     "metadata": {},
     "output_type": "execute_result"
    }
   ],
   "source": [
    "# in_replay_to_status_id has 121,225 null entries\n",
    "df.in_reply_to_status_id.isna().sum()"
   ]
  },
  {
   "cell_type": "code",
   "execution_count": 30,
   "metadata": {},
   "outputs": [
    {
     "data": {
      "text/plain": [
       "19112"
      ]
     },
     "execution_count": 30,
     "metadata": {},
     "output_type": "execute_result"
    }
   ],
   "source": [
    "# in_replay_to_status_id has 19,112 non-null entries\n",
    "df.in_reply_to_status_id.notnull().sum()"
   ]
  },
  {
   "cell_type": "markdown",
   "metadata": {},
   "source": [
    "### in_reply_to_user_id  and  in_reply_to_user_id_str"
   ]
  },
  {
   "cell_type": "code",
   "execution_count": 31,
   "metadata": {},
   "outputs": [
    {
     "data": {
      "text/plain": [
       "11        1.850261e+08\n",
       "17        7.807069e+07\n",
       "24        2.353606e+09\n",
       "28        2.929293e+08\n",
       "35        9.364382e+17\n",
       "              ...     \n",
       "140307    1.247764e+18\n",
       "140311    2.541519e+08\n",
       "140324    2.507388e+07\n",
       "140333    2.853462e+09\n",
       "140334    1.367531e+06\n",
       "Name: in_reply_to_user_id, Length: 20181, dtype: float64"
      ]
     },
     "execution_count": 31,
     "metadata": {},
     "output_type": "execute_result"
    }
   ],
   "source": [
    "# not sure what this is? in reply to user id?\n",
    "df.in_reply_to_user_id[df.in_reply_to_user_id.notnull()]"
   ]
  },
  {
   "cell_type": "code",
   "execution_count": 32,
   "metadata": {},
   "outputs": [
    {
     "data": {
      "text/plain": [
       "185026121.0"
      ]
     },
     "execution_count": 32,
     "metadata": {},
     "output_type": "execute_result"
    }
   ],
   "source": [
    "df.in_reply_to_user_id.iloc[11]"
   ]
  },
  {
   "cell_type": "code",
   "execution_count": 33,
   "metadata": {},
   "outputs": [
    {
     "data": {
      "text/plain": [
       "'185026121'"
      ]
     },
     "execution_count": 33,
     "metadata": {},
     "output_type": "execute_result"
    }
   ],
   "source": [
    "df.in_reply_to_user_id_str.iloc[11]"
   ]
  },
  {
   "cell_type": "code",
   "execution_count": 34,
   "metadata": {},
   "outputs": [
    {
     "data": {
      "text/plain": [
       "120156"
      ]
     },
     "execution_count": 34,
     "metadata": {},
     "output_type": "execute_result"
    }
   ],
   "source": [
    "# in_replay_to_status_id has 120,156 null entries\n",
    "df.in_reply_to_user_id.isna().sum()"
   ]
  },
  {
   "cell_type": "code",
   "execution_count": 35,
   "metadata": {},
   "outputs": [
    {
     "data": {
      "text/plain": [
       "20181"
      ]
     },
     "execution_count": 35,
     "metadata": {},
     "output_type": "execute_result"
    }
   ],
   "source": [
    "# in_replay_to_status_id has 20,181 non-null entries\n",
    "df.in_reply_to_user_id.notnull().sum()"
   ]
  },
  {
   "cell_type": "markdown",
   "metadata": {},
   "source": [
    "### in_reply_to_screen_name"
   ]
  },
  {
   "cell_type": "code",
   "execution_count": 36,
   "metadata": {},
   "outputs": [
    {
     "data": {
      "text/plain": [
       "11             laggerific\n",
       "17             rodala2904\n",
       "24          GOPChairwoman\n",
       "28          charliekirk11\n",
       "35        PandaGetsHangry\n",
       "               ...       \n",
       "140307       maddyhossler\n",
       "140311       brad_dickson\n",
       "140324    realDonaldTrump\n",
       "140333     ScottAdamsSays\n",
       "140334            FoxNews\n",
       "Name: in_reply_to_screen_name, Length: 20181, dtype: object"
      ]
     },
     "execution_count": 36,
     "metadata": {},
     "output_type": "execute_result"
    }
   ],
   "source": [
    "# User replied to...?\n",
    "df.in_reply_to_screen_name[df.in_reply_to_screen_name.notnull()]"
   ]
  },
  {
   "cell_type": "code",
   "execution_count": 37,
   "metadata": {},
   "outputs": [
    {
     "data": {
      "text/plain": [
       "'laggerific'"
      ]
     },
     "execution_count": 37,
     "metadata": {},
     "output_type": "execute_result"
    }
   ],
   "source": [
    "df.in_reply_to_screen_name.iloc[11]"
   ]
  },
  {
   "cell_type": "code",
   "execution_count": 38,
   "metadata": {},
   "outputs": [
    {
     "data": {
      "text/plain": [
       "120156"
      ]
     },
     "execution_count": 38,
     "metadata": {},
     "output_type": "execute_result"
    }
   ],
   "source": [
    "# in_replay_to_status_id has 120,156 null entries, same as in_reply_to_user_id\n",
    "df.in_reply_to_screen_name.isna().sum()"
   ]
  },
  {
   "cell_type": "code",
   "execution_count": 39,
   "metadata": {},
   "outputs": [
    {
     "data": {
      "text/plain": [
       "20181"
      ]
     },
     "execution_count": 39,
     "metadata": {},
     "output_type": "execute_result"
    }
   ],
   "source": [
    "# in_replay_to_status_id has 20,181 non-null entries, same as in_reply_to_user_id\n",
    "df.in_reply_to_screen_name.notnull().sum()"
   ]
  },
  {
   "cell_type": "code",
   "execution_count": null,
   "metadata": {},
   "outputs": [],
   "source": []
  },
  {
   "cell_type": "markdown",
   "metadata": {},
   "source": [
    "### *user"
   ]
  },
  {
   "cell_type": "code",
   "execution_count": 40,
   "metadata": {
    "scrolled": true
   },
   "outputs": [
    {
     "data": {
      "text/plain": [
       "{'id': 117904481,\n",
       " 'id_str': '117904481',\n",
       " 'name': 'SharonS',\n",
       " 'screen_name': 'sfshores53',\n",
       " 'location': 'America ',\n",
       " 'description': 'Conservative/#MAGA/ #WWG1WGA /MbrNRA/#Trump2020/Pro-Life/Pro-2nd Amend/parler@SharonA53/ NO DMs-/Patriots-will follow all/will unfollow those who do not follow',\n",
       " 'url': None,\n",
       " 'entities': {'description': {'urls': []}},\n",
       " 'protected': False,\n",
       " 'followers_count': 4065,\n",
       " 'friends_count': 4998,\n",
       " 'listed_count': 16,\n",
       " 'created_at': 'Sat Feb 27 00:36:23 +0000 2010',\n",
       " 'favourites_count': 3659,\n",
       " 'utc_offset': None,\n",
       " 'time_zone': None,\n",
       " 'geo_enabled': True,\n",
       " 'verified': False,\n",
       " 'statuses_count': 6156,\n",
       " 'lang': None,\n",
       " 'contributors_enabled': False,\n",
       " 'is_translator': False,\n",
       " 'is_translation_enabled': False,\n",
       " 'profile_background_color': '0099B9',\n",
       " 'profile_background_image_url': 'http://abs.twimg.com/images/themes/theme4/bg.gif',\n",
       " 'profile_background_image_url_https': 'https://abs.twimg.com/images/themes/theme4/bg.gif',\n",
       " 'profile_background_tile': False,\n",
       " 'profile_image_url': 'http://pbs.twimg.com/profile_images/1285573452330610690/ZqF7b43V_normal.jpg',\n",
       " 'profile_image_url_https': 'https://pbs.twimg.com/profile_images/1285573452330610690/ZqF7b43V_normal.jpg',\n",
       " 'profile_banner_url': 'https://pbs.twimg.com/profile_banners/117904481/1595345887',\n",
       " 'profile_image_extensions_alt_text': None,\n",
       " 'profile_banner_extensions_alt_text': None,\n",
       " 'profile_link_color': '003DB8',\n",
       " 'profile_sidebar_border_color': '5ED4DC',\n",
       " 'profile_sidebar_fill_color': '95E8EC',\n",
       " 'profile_text_color': '3C3940',\n",
       " 'profile_use_background_image': True,\n",
       " 'has_extended_profile': False,\n",
       " 'default_profile': False,\n",
       " 'default_profile_image': False,\n",
       " 'following': False,\n",
       " 'follow_request_sent': False,\n",
       " 'notifications': False,\n",
       " 'translator_type': 'none'}"
      ]
     },
     "execution_count": 40,
     "metadata": {},
     "output_type": "execute_result"
    }
   ],
   "source": [
    "# user entries are rich in user information, may have to unpack these features for further analysis...\n",
    "df.user.iloc[0]"
   ]
  },
  {
   "cell_type": "code",
   "execution_count": 41,
   "metadata": {},
   "outputs": [
    {
     "data": {
      "text/plain": [
       "0"
      ]
     },
     "execution_count": 41,
     "metadata": {},
     "output_type": "execute_result"
    }
   ],
   "source": [
    "# user has not nulls\n",
    "df.user.isna().sum()"
   ]
  },
  {
   "cell_type": "markdown",
   "metadata": {},
   "source": [
    "### geo"
   ]
  },
  {
   "cell_type": "code",
   "execution_count": 42,
   "metadata": {},
   "outputs": [
    {
     "data": {
      "text/plain": [
       "30188      {'type': 'Point', 'coordinates': [33.0, -83.5]}\n",
       "111464    {'type': 'Point', 'coordinates': [40.0, -100.0]}\n",
       "Name: geo, dtype: object"
      ]
     },
     "execution_count": 42,
     "metadata": {},
     "output_type": "execute_result"
    }
   ],
   "source": [
    "# geo feature may be dropped \n",
    "df.geo[df.geo.notnull()]"
   ]
  },
  {
   "cell_type": "code",
   "execution_count": 43,
   "metadata": {},
   "outputs": [
    {
     "data": {
      "text/plain": [
       "2"
      ]
     },
     "execution_count": 43,
     "metadata": {},
     "output_type": "execute_result"
    }
   ],
   "source": [
    "# geo has 2 non-nulls\n",
    "df.geo.notnull().sum()"
   ]
  },
  {
   "cell_type": "code",
   "execution_count": 44,
   "metadata": {},
   "outputs": [
    {
     "data": {
      "text/plain": [
       "140335"
      ]
     },
     "execution_count": 44,
     "metadata": {},
     "output_type": "execute_result"
    }
   ],
   "source": [
    "# geo has 140,335 nulls\n",
    "df.geo.isna().sum()"
   ]
  },
  {
   "cell_type": "markdown",
   "metadata": {},
   "source": [
    "### coordinates"
   ]
  },
  {
   "cell_type": "code",
   "execution_count": 45,
   "metadata": {},
   "outputs": [
    {
     "data": {
      "text/plain": [
       "30188      {'type': 'Point', 'coordinates': [-83.5, 33.0]}\n",
       "111464    {'type': 'Point', 'coordinates': [-100.0, 40.0]}\n",
       "Name: coordinates, dtype: object"
      ]
     },
     "execution_count": 45,
     "metadata": {},
     "output_type": "execute_result"
    }
   ],
   "source": [
    "# coordinates feature may be dropped \n",
    "df.coordinates[df.coordinates.notnull()]"
   ]
  },
  {
   "cell_type": "code",
   "execution_count": 46,
   "metadata": {},
   "outputs": [
    {
     "data": {
      "text/plain": [
       "2"
      ]
     },
     "execution_count": 46,
     "metadata": {},
     "output_type": "execute_result"
    }
   ],
   "source": [
    "# coordinates has 2 non-nulls\n",
    "df.coordinates.notnull().sum()"
   ]
  },
  {
   "cell_type": "code",
   "execution_count": 47,
   "metadata": {},
   "outputs": [
    {
     "data": {
      "text/plain": [
       "140335"
      ]
     },
     "execution_count": 47,
     "metadata": {},
     "output_type": "execute_result"
    }
   ],
   "source": [
    "# coordinates has 140,335 nulls\n",
    "df.coordinates.isna().sum()"
   ]
  },
  {
   "cell_type": "markdown",
   "metadata": {},
   "source": [
    "### *place (mabye for an alternate model)"
   ]
  },
  {
   "cell_type": "code",
   "execution_count": 48,
   "metadata": {},
   "outputs": [
    {
     "data": {
      "text/plain": [
       "127       {'id': '5c937363480a2c19', 'url': 'https://api...\n",
       "291       {'id': 'df7fd3a3b9eff7ee', 'url': 'https://api...\n",
       "350       {'id': 'c84ab04b59413e2f', 'url': 'https://api...\n",
       "448       {'id': '4fa26750e4d5620c', 'url': 'https://api...\n",
       "478       {'id': '0fc34b11eb546001', 'url': 'https://api...\n",
       "                                ...                        \n",
       "139597    {'id': '11148050237800f2', 'url': 'https://api...\n",
       "139701    {'id': '00c39537733fa112', 'url': 'https://api...\n",
       "139768    {'id': 'e8ad2641c1cb666c', 'url': 'https://api...\n",
       "140168    {'id': '4ccacb29ffb3b3df', 'url': 'https://api...\n",
       "140246    {'id': '00054d3a0a8df14e', 'url': 'https://api...\n",
       "Name: place, Length: 778, dtype: object"
      ]
     },
     "execution_count": 48,
     "metadata": {},
     "output_type": "execute_result"
    }
   ],
   "source": [
    "# place feature may be dropped \n",
    "df.place[df.place.notnull()]"
   ]
  },
  {
   "cell_type": "code",
   "execution_count": 49,
   "metadata": {},
   "outputs": [
    {
     "data": {
      "text/plain": [
       "{'id': '5c937363480a2c19',\n",
       " 'url': 'https://api.twitter.com/1.1/geo/id/5c937363480a2c19.json',\n",
       " 'place_type': 'city',\n",
       " 'name': 'Cedar Park',\n",
       " 'full_name': 'Cedar Park, TX',\n",
       " 'country_code': 'US',\n",
       " 'country': 'United States',\n",
       " 'contained_within': [],\n",
       " 'bounding_box': {'type': 'Polygon',\n",
       "  'coordinates': [[[-97.8816996, 30.4555355],\n",
       "    [-97.74559, 30.4555355],\n",
       "    [-97.74559, 30.556381],\n",
       "    [-97.8816996, 30.556381]]]},\n",
       " 'attributes': {}}"
      ]
     },
     "execution_count": 49,
     "metadata": {},
     "output_type": "execute_result"
    }
   ],
   "source": [
    "df.place.iloc[127]"
   ]
  },
  {
   "cell_type": "code",
   "execution_count": 50,
   "metadata": {},
   "outputs": [
    {
     "data": {
      "text/plain": [
       "778"
      ]
     },
     "execution_count": 50,
     "metadata": {},
     "output_type": "execute_result"
    }
   ],
   "source": [
    "# place has 778 non-nulls\n",
    "df.place.notnull().sum()"
   ]
  },
  {
   "cell_type": "code",
   "execution_count": 51,
   "metadata": {},
   "outputs": [
    {
     "data": {
      "text/plain": [
       "139559"
      ]
     },
     "execution_count": 51,
     "metadata": {},
     "output_type": "execute_result"
    }
   ],
   "source": [
    "# place has 139,559 nulls\n",
    "df.place.isna().sum()"
   ]
  },
  {
   "cell_type": "markdown",
   "metadata": {},
   "source": [
    "### contributors"
   ]
  },
  {
   "cell_type": "code",
   "execution_count": 52,
   "metadata": {},
   "outputs": [
    {
     "data": {
      "text/plain": [
       "Series([], Name: contributors, dtype: int64)"
      ]
     },
     "execution_count": 52,
     "metadata": {},
     "output_type": "execute_result"
    }
   ],
   "source": [
    "# contributors have all null values\n",
    "df.contributors.value_counts()"
   ]
  },
  {
   "cell_type": "code",
   "execution_count": 53,
   "metadata": {},
   "outputs": [
    {
     "data": {
      "text/plain": [
       "0         None\n",
       "1         None\n",
       "2         None\n",
       "3         None\n",
       "4         None\n",
       "          ... \n",
       "140332    None\n",
       "140333    None\n",
       "140334    None\n",
       "140335    None\n",
       "140336    None\n",
       "Name: contributors, Length: 140337, dtype: object"
      ]
     },
     "execution_count": 53,
     "metadata": {},
     "output_type": "execute_result"
    }
   ],
   "source": [
    "df.contributors"
   ]
  },
  {
   "cell_type": "code",
   "execution_count": 54,
   "metadata": {},
   "outputs": [
    {
     "data": {
      "text/plain": [
       "0"
      ]
     },
     "execution_count": 54,
     "metadata": {},
     "output_type": "execute_result"
    }
   ],
   "source": [
    "# contributors doe not have any notnulls\n",
    "df.contributors.notnull().sum()"
   ]
  },
  {
   "cell_type": "code",
   "execution_count": 55,
   "metadata": {},
   "outputs": [
    {
     "data": {
      "text/plain": [
       "140337"
      ]
     },
     "execution_count": 55,
     "metadata": {},
     "output_type": "execute_result"
    }
   ],
   "source": [
    "# contributors have 140337 nulls, or the entire feature\n",
    "df.contributors.isna().sum()"
   ]
  },
  {
   "cell_type": "markdown",
   "metadata": {},
   "source": [
    "### *is_quote_status or re-tweet True/False"
   ]
  },
  {
   "cell_type": "code",
   "execution_count": 56,
   "metadata": {},
   "outputs": [
    {
     "data": {
      "text/plain": [
       "True"
      ]
     },
     "execution_count": 56,
     "metadata": {},
     "output_type": "execute_result"
    }
   ],
   "source": [
    "df.is_quote_status.iloc[0]"
   ]
  },
  {
   "cell_type": "code",
   "execution_count": 57,
   "metadata": {},
   "outputs": [
    {
     "data": {
      "text/plain": [
       "False    115865\n",
       "True      24472\n",
       "Name: is_quote_status, dtype: int64"
      ]
     },
     "execution_count": 57,
     "metadata": {},
     "output_type": "execute_result"
    }
   ],
   "source": [
    "df.is_quote_status.value_counts()"
   ]
  },
  {
   "cell_type": "code",
   "execution_count": 58,
   "metadata": {},
   "outputs": [
    {
     "data": {
      "text/plain": [
       "140337"
      ]
     },
     "execution_count": 58,
     "metadata": {},
     "output_type": "execute_result"
    }
   ],
   "source": [
    "# is_quote_status has 140337 not nulls or all not nulls\n",
    "df.is_quote_status.notnull().sum()"
   ]
  },
  {
   "cell_type": "code",
   "execution_count": 59,
   "metadata": {},
   "outputs": [
    {
     "data": {
      "text/plain": [
       "0"
      ]
     },
     "execution_count": 59,
     "metadata": {},
     "output_type": "execute_result"
    }
   ],
   "source": [
    "# is_quote has no nulls\n",
    "df.is_quote_status.isna().sum()"
   ]
  },
  {
   "cell_type": "markdown",
   "metadata": {},
   "source": [
    "### quoted_status_id  and  quoted_status_id_str"
   ]
  },
  {
   "cell_type": "code",
   "execution_count": 60,
   "metadata": {},
   "outputs": [
    {
     "data": {
      "text/plain": [
       "0         1.311081e+18\n",
       "1         1.311068e+18\n",
       "3         1.311075e+18\n",
       "13        1.311085e+18\n",
       "20        1.311023e+18\n",
       "              ...     \n",
       "140283    1.312158e+18\n",
       "140287    1.312150e+18\n",
       "140290    7.826734e+17\n",
       "140319    1.311845e+18\n",
       "140334    1.312052e+18\n",
       "Name: quoted_status_id, Length: 24453, dtype: float64"
      ]
     },
     "execution_count": 60,
     "metadata": {},
     "output_type": "execute_result"
    }
   ],
   "source": [
    "df.quoted_status_id[df.quoted_status_id.notnull()]"
   ]
  },
  {
   "cell_type": "code",
   "execution_count": 61,
   "metadata": {},
   "outputs": [
    {
     "data": {
      "text/plain": [
       "1.3110813745107108e+18"
      ]
     },
     "execution_count": 61,
     "metadata": {},
     "output_type": "execute_result"
    }
   ],
   "source": [
    "df.quoted_status_id.iloc[0]"
   ]
  },
  {
   "cell_type": "code",
   "execution_count": 62,
   "metadata": {},
   "outputs": [
    {
     "data": {
      "text/plain": [
       "'1311081374510710784'"
      ]
     },
     "execution_count": 62,
     "metadata": {},
     "output_type": "execute_result"
    }
   ],
   "source": [
    "df.quoted_status_id_str.iloc[0]"
   ]
  },
  {
   "cell_type": "code",
   "execution_count": 63,
   "metadata": {},
   "outputs": [
    {
     "data": {
      "text/plain": [
       "24453"
      ]
     },
     "execution_count": 63,
     "metadata": {},
     "output_type": "execute_result"
    }
   ],
   "source": [
    "# quoted_status_id has 24,453 not null values\n",
    "df.quoted_status_id.notnull().sum()"
   ]
  },
  {
   "cell_type": "code",
   "execution_count": 64,
   "metadata": {},
   "outputs": [
    {
     "data": {
      "text/plain": [
       "24453"
      ]
     },
     "execution_count": 64,
     "metadata": {},
     "output_type": "execute_result"
    }
   ],
   "source": [
    "# quoted_status_id_str has 24,453 not null values\n",
    "df.quoted_status_id_str.notnull().sum()"
   ]
  },
  {
   "cell_type": "code",
   "execution_count": 65,
   "metadata": {},
   "outputs": [
    {
     "data": {
      "text/plain": [
       "115884"
      ]
     },
     "execution_count": 65,
     "metadata": {},
     "output_type": "execute_result"
    }
   ],
   "source": [
    "# quoted_status_id has 115,884 null values\n",
    "df.quoted_status_id.isna().sum()"
   ]
  },
  {
   "cell_type": "code",
   "execution_count": 66,
   "metadata": {},
   "outputs": [
    {
     "data": {
      "text/plain": [
       "115884"
      ]
     },
     "execution_count": 66,
     "metadata": {},
     "output_type": "execute_result"
    }
   ],
   "source": [
    "# quoted_status_id_str has 115,884 not null values, same as quoted_status_id\n",
    "df.quoted_status_id_str.isna().sum()"
   ]
  },
  {
   "cell_type": "markdown",
   "metadata": {},
   "source": [
    "### quoted_status_permalink"
   ]
  },
  {
   "cell_type": "code",
   "execution_count": 67,
   "metadata": {},
   "outputs": [
    {
     "data": {
      "text/plain": [
       "0         {'url': 'https://t.co/cQuxzexXYt', 'expanded':...\n",
       "1         {'url': 'https://t.co/GOhLaDJLeN', 'expanded':...\n",
       "3         {'url': 'https://t.co/CdP89boyMD', 'expanded':...\n",
       "13        {'url': 'https://t.co/UsGTooBCyt', 'expanded':...\n",
       "20        {'url': 'https://t.co/3IQBeRoNBs', 'expanded':...\n",
       "                                ...                        \n",
       "140283    {'url': 'https://t.co/LuDs229jRB', 'expanded':...\n",
       "140287    {'url': 'https://t.co/TiL8NKvVw5', 'expanded':...\n",
       "140290    {'url': 'https://t.co/mBvs82nzSu', 'expanded':...\n",
       "140319    {'url': 'https://t.co/Zb9V44ui86', 'expanded':...\n",
       "140334    {'url': 'https://t.co/ny6550SLAr', 'expanded':...\n",
       "Name: quoted_status_permalink, Length: 24452, dtype: object"
      ]
     },
     "execution_count": 67,
     "metadata": {},
     "output_type": "execute_result"
    }
   ],
   "source": [
    "df.quoted_status_permalink[df.quoted_status_permalink.notnull()]"
   ]
  },
  {
   "cell_type": "code",
   "execution_count": 68,
   "metadata": {},
   "outputs": [
    {
     "data": {
      "text/plain": [
       "{'url': 'https://t.co/cQuxzexXYt',\n",
       " 'expanded': 'https://twitter.com/IngrahamAngle/status/1311081374510710784',\n",
       " 'display': 'twitter.com/IngrahamAngle/…'}"
      ]
     },
     "execution_count": 68,
     "metadata": {},
     "output_type": "execute_result"
    }
   ],
   "source": [
    "df.quoted_status_permalink.iloc[0]"
   ]
  },
  {
   "cell_type": "code",
   "execution_count": 69,
   "metadata": {},
   "outputs": [
    {
     "data": {
      "text/plain": [
       "24452"
      ]
     },
     "execution_count": 69,
     "metadata": {},
     "output_type": "execute_result"
    }
   ],
   "source": [
    "# quoted_status_permalink has 24,452 not null entries\n",
    "df.quoted_status_permalink.notnull().sum()"
   ]
  },
  {
   "cell_type": "code",
   "execution_count": 70,
   "metadata": {},
   "outputs": [
    {
     "data": {
      "text/plain": [
       "115885"
      ]
     },
     "execution_count": 70,
     "metadata": {},
     "output_type": "execute_result"
    }
   ],
   "source": [
    "# quoted_status_permalink has 115,885 null entries\n",
    "df.quoted_status_permalink.isna().sum()"
   ]
  },
  {
   "cell_type": "markdown",
   "metadata": {},
   "source": [
    "### *quoted_status (may want to use for separate modeling)"
   ]
  },
  {
   "cell_type": "code",
   "execution_count": 71,
   "metadata": {},
   "outputs": [
    {
     "data": {
      "text/plain": [
       "0         {'created_at': 'Tue Sep 29 23:12:13 +0000 2020...\n",
       "48        {'created_at': 'Tue Sep 29 19:22:28 +0000 2020...\n",
       "79        {'created_at': 'Tue Sep 29 23:27:01 +0000 2020...\n",
       "120       {'created_at': 'Tue Sep 29 14:12:20 +0000 2020...\n",
       "159       {'created_at': 'Tue Sep 29 23:25:00 +0000 2020...\n",
       "                                ...                        \n",
       "140215    {'created_at': 'Fri Oct 02 22:03:12 +0000 2020...\n",
       "140247    {'created_at': 'Fri Oct 02 22:05:49 +0000 2020...\n",
       "140277    {'created_at': 'Fri Oct 02 08:16:34 +0000 2020...\n",
       "140283    {'created_at': 'Fri Oct 02 22:31:56 +0000 2020...\n",
       "140319    {'created_at': 'Fri Oct 02 01:44:37 +0000 2020...\n",
       "Name: quoted_status, Length: 7572, dtype: object"
      ]
     },
     "execution_count": 71,
     "metadata": {},
     "output_type": "execute_result"
    }
   ],
   "source": [
    "df.quoted_status[df.quoted_status.notnull()]"
   ]
  },
  {
   "cell_type": "code",
   "execution_count": 72,
   "metadata": {},
   "outputs": [
    {
     "data": {
      "text/plain": [
       "{'created_at': 'Tue Sep 29 23:12:13 +0000 2020',\n",
       " 'id': 1311081374510710784,\n",
       " 'id_str': '1311081374510710784',\n",
       " 'full_text': 'On Biden tonight—\\n1He’s a professional debater – it’s the closest thing he’s ever had to a real job.\\n2.  This is a Biden’s 3rd time running for President.  \\n3Whatever he does, the press will declare him the winner',\n",
       " 'truncated': False,\n",
       " 'display_text_range': [0, 213],\n",
       " 'entities': {'hashtags': [], 'symbols': [], 'user_mentions': [], 'urls': []},\n",
       " 'source': '<a href=\"http://twitter.com/download/iphone\" rel=\"nofollow\">Twitter for iPhone</a>',\n",
       " 'in_reply_to_status_id': None,\n",
       " 'in_reply_to_status_id_str': None,\n",
       " 'in_reply_to_user_id': None,\n",
       " 'in_reply_to_user_id_str': None,\n",
       " 'in_reply_to_screen_name': None,\n",
       " 'user': {'id': 50769180,\n",
       "  'id_str': '50769180',\n",
       "  'name': 'Laura Ingraham',\n",
       "  'screen_name': 'IngrahamAngle',\n",
       "  'location': 'DC',\n",
       "  'description': 'Mom, author, host, The Ingraham Angle, 10p ET @FoxNews. Retweets do not = Endorsements',\n",
       "  'url': 'https://t.co/lnkE5EsSNQ',\n",
       "  'entities': {'url': {'urls': [{'url': 'https://t.co/lnkE5EsSNQ',\n",
       "      'expanded_url': 'http://www.lauraingraham.com',\n",
       "      'display_url': 'lauraingraham.com',\n",
       "      'indices': [0, 23]}]},\n",
       "   'description': {'urls': []}},\n",
       "  'protected': False,\n",
       "  'followers_count': 3821888,\n",
       "  'friends_count': 355,\n",
       "  'listed_count': 13585,\n",
       "  'created_at': 'Thu Jun 25 21:03:25 +0000 2009',\n",
       "  'favourites_count': 3762,\n",
       "  'utc_offset': None,\n",
       "  'time_zone': None,\n",
       "  'geo_enabled': True,\n",
       "  'verified': True,\n",
       "  'statuses_count': 45284,\n",
       "  'lang': None,\n",
       "  'contributors_enabled': False,\n",
       "  'is_translator': False,\n",
       "  'is_translation_enabled': False,\n",
       "  'profile_background_color': 'DBE9ED',\n",
       "  'profile_background_image_url': 'http://abs.twimg.com/images/themes/theme1/bg.png',\n",
       "  'profile_background_image_url_https': 'https://abs.twimg.com/images/themes/theme1/bg.png',\n",
       "  'profile_background_tile': False,\n",
       "  'profile_image_url': 'http://pbs.twimg.com/profile_images/1146349820912660480/CjdAuR5i_normal.jpg',\n",
       "  'profile_image_url_https': 'https://pbs.twimg.com/profile_images/1146349820912660480/CjdAuR5i_normal.jpg',\n",
       "  'profile_banner_url': 'https://pbs.twimg.com/profile_banners/50769180/1594069836',\n",
       "  'profile_image_extensions_alt_text': None,\n",
       "  'profile_banner_extensions_alt_text': None,\n",
       "  'profile_link_color': 'CC3366',\n",
       "  'profile_sidebar_border_color': 'FFFFFF',\n",
       "  'profile_sidebar_fill_color': 'DDEEF6',\n",
       "  'profile_text_color': '333333',\n",
       "  'profile_use_background_image': True,\n",
       "  'has_extended_profile': False,\n",
       "  'default_profile': False,\n",
       "  'default_profile_image': False,\n",
       "  'following': False,\n",
       "  'follow_request_sent': False,\n",
       "  'notifications': False,\n",
       "  'translator_type': 'none'},\n",
       " 'geo': None,\n",
       " 'coordinates': None,\n",
       " 'place': None,\n",
       " 'contributors': None,\n",
       " 'is_quote_status': False,\n",
       " 'retweet_count': 4608,\n",
       " 'favorite_count': 21696,\n",
       " 'favorited': False,\n",
       " 'retweeted': False,\n",
       " 'lang': 'en'}"
      ]
     },
     "execution_count": 72,
     "metadata": {},
     "output_type": "execute_result"
    }
   ],
   "source": [
    "df.quoted_status.iloc[0]"
   ]
  },
  {
   "cell_type": "code",
   "execution_count": 73,
   "metadata": {},
   "outputs": [
    {
     "data": {
      "text/plain": [
       "7572"
      ]
     },
     "execution_count": 73,
     "metadata": {},
     "output_type": "execute_result"
    }
   ],
   "source": [
    "# quoted_status has 7,572 non-null entries\n",
    "df.quoted_status.notnull().sum()"
   ]
  },
  {
   "cell_type": "code",
   "execution_count": 74,
   "metadata": {},
   "outputs": [
    {
     "data": {
      "text/plain": [
       "132765"
      ]
     },
     "execution_count": 74,
     "metadata": {},
     "output_type": "execute_result"
    }
   ],
   "source": [
    "# quoted_status has 132,765 null entries\n",
    "df.quoted_status.isna().sum()"
   ]
  },
  {
   "cell_type": "markdown",
   "metadata": {},
   "source": [
    "### *retweet_count"
   ]
  },
  {
   "cell_type": "code",
   "execution_count": 75,
   "metadata": {},
   "outputs": [
    {
     "data": {
      "text/plain": [
       "0"
      ]
     },
     "execution_count": 75,
     "metadata": {},
     "output_type": "execute_result"
    }
   ],
   "source": [
    "df.retweet_count.iloc[0]"
   ]
  },
  {
   "cell_type": "code",
   "execution_count": 76,
   "metadata": {},
   "outputs": [
    {
     "data": {
      "text/plain": [
       "859.0"
      ]
     },
     "execution_count": 76,
     "metadata": {},
     "output_type": "execute_result"
    }
   ],
   "source": [
    "df.retweet_count.median()"
   ]
  },
  {
   "cell_type": "code",
   "execution_count": 77,
   "metadata": {},
   "outputs": [
    {
     "data": {
      "text/plain": [
       "21028.81549413198"
      ]
     },
     "execution_count": 77,
     "metadata": {},
     "output_type": "execute_result"
    }
   ],
   "source": [
    "df.retweet_count.mean()"
   ]
  },
  {
   "cell_type": "code",
   "execution_count": 78,
   "metadata": {},
   "outputs": [
    {
     "data": {
      "text/plain": [
       "66438.94603761076"
      ]
     },
     "execution_count": 78,
     "metadata": {},
     "output_type": "execute_result"
    }
   ],
   "source": [
    "df.retweet_count.std()"
   ]
  },
  {
   "cell_type": "code",
   "execution_count": 79,
   "metadata": {},
   "outputs": [
    {
     "data": {
      "image/png": "[encoded data removed]",
      "text/plain": [
       "<Figure size 432x288 with 1 Axes>"
      ]
     },
     "metadata": {},
     "output_type": "display_data"
    }
   ],
   "source": [
    "plt.hist(df.retweet_count);"
   ]
  },
  {
   "cell_type": "code",
   "execution_count": 80,
   "metadata": {
    "scrolled": true
   },
   "outputs": [
    {
     "data": {
      "image/png": "[encoded data removed]",
      "text/plain": [
       "<Figure size 432x288 with 1 Axes>"
      ]
     },
     "metadata": {},
     "output_type": "display_data"
    }
   ],
   "source": [
    "plt.hist(df.retweet_count, log=True);"
   ]
  },
  {
   "cell_type": "code",
   "execution_count": 81,
   "metadata": {},
   "outputs": [
    {
     "data": {
      "text/plain": [
       "140337"
      ]
     },
     "execution_count": 81,
     "metadata": {},
     "output_type": "execute_result"
    }
   ],
   "source": [
    "# retweet_count has 140,337 non-null entries\n",
    "df.retweet_count.notnull().sum()"
   ]
  },
  {
   "cell_type": "code",
   "execution_count": 82,
   "metadata": {},
   "outputs": [
    {
     "data": {
      "text/plain": [
       "0"
      ]
     },
     "execution_count": 82,
     "metadata": {},
     "output_type": "execute_result"
    }
   ],
   "source": [
    "# retweet_count has 0 null entries\n",
    "df.retweet_count.isna().sum()"
   ]
  },
  {
   "cell_type": "markdown",
   "metadata": {},
   "source": [
    "### *favorite_count"
   ]
  },
  {
   "cell_type": "code",
   "execution_count": 83,
   "metadata": {},
   "outputs": [
    {
     "data": {
      "text/plain": [
       "0"
      ]
     },
     "execution_count": 83,
     "metadata": {},
     "output_type": "execute_result"
    }
   ],
   "source": [
    "df.favorite_count.iloc[0]"
   ]
  },
  {
   "cell_type": "code",
   "execution_count": 84,
   "metadata": {},
   "outputs": [
    {
     "data": {
      "text/plain": [
       "0      128007\n",
       "1        5656\n",
       "2        2176\n",
       "3        1070\n",
       "4         643\n",
       "        ...  \n",
       "565         1\n",
       "437         1\n",
       "181         1\n",
       "692         1\n",
       "767         1\n",
       "Name: favorite_count, Length: 305, dtype: int64"
      ]
     },
     "execution_count": 84,
     "metadata": {},
     "output_type": "execute_result"
    }
   ],
   "source": [
    "df.favorite_count.value_counts()"
   ]
  },
  {
   "cell_type": "code",
   "execution_count": 85,
   "metadata": {},
   "outputs": [
    {
     "data": {
      "text/plain": [
       "0.0"
      ]
     },
     "execution_count": 85,
     "metadata": {},
     "output_type": "execute_result"
    }
   ],
   "source": [
    "df.favorite_count.median()"
   ]
  },
  {
   "cell_type": "code",
   "execution_count": 86,
   "metadata": {},
   "outputs": [
    {
     "data": {
      "text/plain": [
       "4.9153395041934775"
      ]
     },
     "execution_count": 86,
     "metadata": {},
     "output_type": "execute_result"
    }
   ],
   "source": [
    "df.favorite_count.mean()"
   ]
  },
  {
   "cell_type": "code",
   "execution_count": 87,
   "metadata": {},
   "outputs": [
    {
     "data": {
      "text/plain": [
       "661.1712932699155"
      ]
     },
     "execution_count": 87,
     "metadata": {},
     "output_type": "execute_result"
    }
   ],
   "source": [
    "df.favorite_count.std()"
   ]
  },
  {
   "cell_type": "code",
   "execution_count": 88,
   "metadata": {
    "scrolled": true
   },
   "outputs": [
    {
     "data": {
      "text/plain": [
       "(array([1.40334e+05, 0.00000e+00, 1.00000e+00, 0.00000e+00, 0.00000e+00,\n",
       "        0.00000e+00, 0.00000e+00, 1.00000e+00, 0.00000e+00, 1.00000e+00]),\n",
       " array([     0. ,  18936.1,  37872.2,  56808.3,  75744.4,  94680.5,\n",
       "        113616.6, 132552.7, 151488.8, 170424.9, 189361. ]),\n",
       " <a list of 10 Patch objects>)"
      ]
     },
     "execution_count": 88,
     "metadata": {},
     "output_type": "execute_result"
    },
    {
     "data": {
      "image/png": "[encoded data removed]",
      "text/plain": [
       "<Figure size 432x288 with 1 Axes>"
      ]
     },
     "metadata": {},
     "output_type": "display_data"
    }
   ],
   "source": [
    "plt.hist(df.favorite_count)"
   ]
  },
  {
   "cell_type": "code",
   "execution_count": 89,
   "metadata": {},
   "outputs": [
    {
     "data": {
      "text/plain": [
       "(array([1.40334e+05, 0.00000e+00, 1.00000e+00, 0.00000e+00, 0.00000e+00,\n",
       "        0.00000e+00, 0.00000e+00, 1.00000e+00, 0.00000e+00, 1.00000e+00]),\n",
       " array([     0. ,  18936.1,  37872.2,  56808.3,  75744.4,  94680.5,\n",
       "        113616.6, 132552.7, 151488.8, 170424.9, 189361. ]),\n",
       " <a list of 10 Patch objects>)"
      ]
     },
     "execution_count": 89,
     "metadata": {},
     "output_type": "execute_result"
    },
    {
     "data": {
      "image/png": "[encoded data removed]",
      "text/plain": [
       "<Figure size 432x288 with 1 Axes>"
      ]
     },
     "metadata": {},
     "output_type": "display_data"
    }
   ],
   "source": [
    "plt.hist(df.favorite_count, log=True)"
   ]
  },
  {
   "cell_type": "code",
   "execution_count": 90,
   "metadata": {},
   "outputs": [
    {
     "data": {
      "text/plain": [
       "140337"
      ]
     },
     "execution_count": 90,
     "metadata": {},
     "output_type": "execute_result"
    }
   ],
   "source": [
    "# favorite_count has 140,337 not null entries\n",
    "df.favorite_count.notnull().sum()"
   ]
  },
  {
   "cell_type": "code",
   "execution_count": 91,
   "metadata": {},
   "outputs": [
    {
     "data": {
      "text/plain": [
       "0"
      ]
     },
     "execution_count": 91,
     "metadata": {},
     "output_type": "execute_result"
    }
   ],
   "source": [
    "# favorite_count has 0 null entries\n",
    "df.favorite_count.isna().sum()"
   ]
  },
  {
   "cell_type": "markdown",
   "metadata": {},
   "source": [
    "### favorited"
   ]
  },
  {
   "cell_type": "code",
   "execution_count": 92,
   "metadata": {},
   "outputs": [
    {
     "data": {
      "text/plain": [
       "False"
      ]
     },
     "execution_count": 92,
     "metadata": {},
     "output_type": "execute_result"
    }
   ],
   "source": [
    "df.favorited.iloc[0]"
   ]
  },
  {
   "cell_type": "code",
   "execution_count": 93,
   "metadata": {},
   "outputs": [
    {
     "data": {
      "text/plain": [
       "False    140337\n",
       "Name: favorited, dtype: int64"
      ]
     },
     "execution_count": 93,
     "metadata": {},
     "output_type": "execute_result"
    }
   ],
   "source": [
    "df.favorited.value_counts()"
   ]
  },
  {
   "cell_type": "code",
   "execution_count": 94,
   "metadata": {},
   "outputs": [
    {
     "data": {
      "text/plain": [
       "140337"
      ]
     },
     "execution_count": 94,
     "metadata": {},
     "output_type": "execute_result"
    }
   ],
   "source": [
    "# favorited has 140,337 non-null entries\n",
    "df.favorited.notnull().sum()"
   ]
  },
  {
   "cell_type": "code",
   "execution_count": 95,
   "metadata": {},
   "outputs": [
    {
     "data": {
      "text/plain": [
       "0"
      ]
     },
     "execution_count": 95,
     "metadata": {},
     "output_type": "execute_result"
    }
   ],
   "source": [
    "# favorited has 0 null entries\n",
    "df.favorited.isna().sum()"
   ]
  },
  {
   "cell_type": "markdown",
   "metadata": {},
   "source": [
    "### retweeted"
   ]
  },
  {
   "cell_type": "code",
   "execution_count": 96,
   "metadata": {},
   "outputs": [
    {
     "data": {
      "text/plain": [
       "False"
      ]
     },
     "execution_count": 96,
     "metadata": {},
     "output_type": "execute_result"
    }
   ],
   "source": [
    "df.retweeted.iloc[0]"
   ]
  },
  {
   "cell_type": "code",
   "execution_count": 97,
   "metadata": {},
   "outputs": [
    {
     "data": {
      "text/plain": [
       "False    140337\n",
       "Name: retweeted, dtype: int64"
      ]
     },
     "execution_count": 97,
     "metadata": {},
     "output_type": "execute_result"
    }
   ],
   "source": [
    "df.retweeted.value_counts()"
   ]
  },
  {
   "cell_type": "code",
   "execution_count": 98,
   "metadata": {},
   "outputs": [
    {
     "data": {
      "text/plain": [
       "140337"
      ]
     },
     "execution_count": 98,
     "metadata": {},
     "output_type": "execute_result"
    }
   ],
   "source": [
    "# retweeted has 140,337 non-null entries\n",
    "df.retweeted.notnull().sum()"
   ]
  },
  {
   "cell_type": "code",
   "execution_count": 99,
   "metadata": {},
   "outputs": [
    {
     "data": {
      "text/plain": [
       "0"
      ]
     },
     "execution_count": 99,
     "metadata": {},
     "output_type": "execute_result"
    }
   ],
   "source": [
    "# retweeted has 0 null entries\n",
    "df.retweeted.isna().sum()"
   ]
  },
  {
   "cell_type": "markdown",
   "metadata": {},
   "source": [
    "### *possibly_sensitive"
   ]
  },
  {
   "cell_type": "code",
   "execution_count": 100,
   "metadata": {},
   "outputs": [
    {
     "data": {
      "text/plain": [
       "0         False\n",
       "2         False\n",
       "7         False\n",
       "10        False\n",
       "14        False\n",
       "          ...  \n",
       "140326    False\n",
       "140328    False\n",
       "140330    False\n",
       "140332    False\n",
       "140334    False\n",
       "Name: possibly_sensitive, Length: 32333, dtype: object"
      ]
     },
     "execution_count": 100,
     "metadata": {},
     "output_type": "execute_result"
    }
   ],
   "source": [
    "df.possibly_sensitive[df.possibly_sensitive.notnull()]"
   ]
  },
  {
   "cell_type": "code",
   "execution_count": 101,
   "metadata": {},
   "outputs": [
    {
     "data": {
      "text/plain": [
       "False    30897\n",
       "True      1436\n",
       "Name: possibly_sensitive, dtype: int64"
      ]
     },
     "execution_count": 101,
     "metadata": {},
     "output_type": "execute_result"
    }
   ],
   "source": [
    "df.possibly_sensitive.value_counts()"
   ]
  },
  {
   "cell_type": "code",
   "execution_count": 102,
   "metadata": {},
   "outputs": [
    {
     "data": {
      "text/plain": [
       "32333"
      ]
     },
     "execution_count": 102,
     "metadata": {},
     "output_type": "execute_result"
    }
   ],
   "source": [
    "# possibly_sensitive has 32,333 non-null entries\n",
    "df.possibly_sensitive.notnull().sum()"
   ]
  },
  {
   "cell_type": "code",
   "execution_count": 103,
   "metadata": {},
   "outputs": [
    {
     "data": {
      "text/plain": [
       "108004"
      ]
     },
     "execution_count": 103,
     "metadata": {},
     "output_type": "execute_result"
    }
   ],
   "source": [
    "# possibly_sensitive has108,004 null entries\n",
    "df.possibly_sensitive.isna().sum()"
   ]
  },
  {
   "cell_type": "markdown",
   "metadata": {},
   "source": [
    "### *lang"
   ]
  },
  {
   "cell_type": "code",
   "execution_count": 104,
   "metadata": {},
   "outputs": [
    {
     "data": {
      "text/plain": [
       "'en'"
      ]
     },
     "execution_count": 104,
     "metadata": {},
     "output_type": "execute_result"
    }
   ],
   "source": [
    "df.lang.iloc[0]"
   ]
  },
  {
   "cell_type": "code",
   "execution_count": 105,
   "metadata": {},
   "outputs": [
    {
     "data": {
      "text/plain": [
       "en     124030\n",
       "und      9322\n",
       "es       2900\n",
       "pt       1034\n",
       "fr        665\n",
       "de        304\n",
       "in        241\n",
       "tr        234\n",
       "ja        228\n",
       "it        209\n",
       "nl        165\n",
       "tl        160\n",
       "zh         84\n",
       "th         76\n",
       "eu         72\n",
       "pl         68\n",
       "da         62\n",
       "ar         49\n",
       "et         46\n",
       "ht         46\n",
       "sv         42\n",
       "fa         40\n",
       "hi         39\n",
       "no         37\n",
       "ca         33\n",
       "am         21\n",
       "fi         16\n",
       "ro         16\n",
       "ru         12\n",
       "ko         11\n",
       "cs         11\n",
       "cy          9\n",
       "el          9\n",
       "hu          8\n",
       "vi          5\n",
       "lt          5\n",
       "iw          4\n",
       "ta          4\n",
       "sl          3\n",
       "ur          3\n",
       "pa          3\n",
       "my          2\n",
       "uk          2\n",
       "ml          2\n",
       "lv          1\n",
       "hy          1\n",
       "te          1\n",
       "gu          1\n",
       "is          1\n",
       "Name: lang, dtype: int64"
      ]
     },
     "execution_count": 105,
     "metadata": {},
     "output_type": "execute_result"
    }
   ],
   "source": [
    "df.lang.value_counts()"
   ]
  },
  {
   "cell_type": "code",
   "execution_count": 106,
   "metadata": {},
   "outputs": [
    {
     "data": {
      "text/plain": [
       "140337"
      ]
     },
     "execution_count": 106,
     "metadata": {},
     "output_type": "execute_result"
    }
   ],
   "source": [
    "# lang has 140,337 non-null entries\n",
    "df.lang.notnull().sum()"
   ]
  },
  {
   "cell_type": "code",
   "execution_count": 107,
   "metadata": {},
   "outputs": [
    {
     "data": {
      "text/plain": [
       "0"
      ]
     },
     "execution_count": 107,
     "metadata": {},
     "output_type": "execute_result"
    }
   ],
   "source": [
    "# lang has 0 null entries\n",
    "df.lang.isna().sum()"
   ]
  },
  {
   "cell_type": "markdown",
   "metadata": {},
   "source": [
    "### *retweeted_status (may want to use for separate modeling)"
   ]
  },
  {
   "cell_type": "code",
   "execution_count": 108,
   "metadata": {},
   "outputs": [
    {
     "data": {
      "text/plain": [
       "1         {'created_at': 'Tue Sep 29 23:55:42 +0000 2020...\n",
       "3         {'created_at': 'Tue Sep 29 23:00:28 +0000 2020...\n",
       "4         {'created_at': 'Tue Sep 29 19:07:59 +0000 2020...\n",
       "5         {'created_at': 'Tue Sep 29 23:35:01 +0000 2020...\n",
       "6         {'created_at': 'Tue Sep 29 17:33:06 +0000 2020...\n",
       "                                ...                        \n",
       "140330    {'created_at': 'Fri Oct 02 23:48:43 +0000 2020...\n",
       "140331    {'created_at': 'Fri Oct 02 21:42:08 +0000 2020...\n",
       "140332    {'created_at': 'Fri Oct 02 22:31:56 +0000 2020...\n",
       "140335    {'created_at': 'Fri Oct 02 23:58:26 +0000 2020...\n",
       "140336    {'created_at': 'Fri Oct 02 23:54:45 +0000 2020...\n",
       "Name: retweeted_status, Length: 106900, dtype: object"
      ]
     },
     "execution_count": 108,
     "metadata": {},
     "output_type": "execute_result"
    }
   ],
   "source": [
    "df.retweeted_status[df.retweeted_status.notnull()]"
   ]
  },
  {
   "cell_type": "code",
   "execution_count": 109,
   "metadata": {
    "scrolled": true
   },
   "outputs": [
    {
     "data": {
      "text/plain": [
       "{'created_at': 'Tue Sep 29 23:55:42 +0000 2020',\n",
       " 'id': 1311092317466624005,\n",
       " 'id_str': '1311092317466624005',\n",
       " 'full_text': '#PresidentialDebate #Debates2020 #TrumpIsANationalDisgrace https://t.co/GOhLaDJLeN',\n",
       " 'truncated': False,\n",
       " 'display_text_range': [0, 58],\n",
       " 'entities': {'hashtags': [{'text': 'PresidentialDebate', 'indices': [0, 19]},\n",
       "   {'text': 'Debates2020', 'indices': [20, 32]},\n",
       "   {'text': 'TrumpIsANationalDisgrace', 'indices': [33, 58]}],\n",
       "  'symbols': [],\n",
       "  'user_mentions': [],\n",
       "  'urls': [{'url': 'https://t.co/GOhLaDJLeN',\n",
       "    'expanded_url': 'https://twitter.com/JenniferJJacobs/status/1311068232976080896',\n",
       "    'display_url': 'twitter.com/JenniferJJacob…',\n",
       "    'indices': [59, 82]}]},\n",
       " 'source': '<a href=\"http://twitter.com/download/android\" rel=\"nofollow\">Twitter for Android</a>',\n",
       " 'in_reply_to_status_id': None,\n",
       " 'in_reply_to_status_id_str': None,\n",
       " 'in_reply_to_user_id': None,\n",
       " 'in_reply_to_user_id_str': None,\n",
       " 'in_reply_to_screen_name': None,\n",
       " 'user': {'id': 1084234892840484864,\n",
       "  'id_str': '1084234892840484864',\n",
       "  'name': 'DarDar45 🌊 🆘',\n",
       "  'screen_name': 'DarDar458',\n",
       "  'location': 'North Carolina, USA',\n",
       "  'description': \"Hubby. Dad. Papa. #GOPTraitors\\n🌊🌊🌊  🚫 DM's  💙I have cast my early vote in NC for #BidenHarris2020💙\",\n",
       "  'url': None,\n",
       "  'entities': {'description': {'urls': []}},\n",
       "  'protected': False,\n",
       "  'followers_count': 18023,\n",
       "  'friends_count': 17931,\n",
       "  'listed_count': 5,\n",
       "  'created_at': 'Sat Jan 12 23:45:17 +0000 2019',\n",
       "  'favourites_count': 42756,\n",
       "  'utc_offset': None,\n",
       "  'time_zone': None,\n",
       "  'geo_enabled': False,\n",
       "  'verified': False,\n",
       "  'statuses_count': 11213,\n",
       "  'lang': None,\n",
       "  'contributors_enabled': False,\n",
       "  'is_translator': False,\n",
       "  'is_translation_enabled': False,\n",
       "  'profile_background_color': 'F5F8FA',\n",
       "  'profile_background_image_url': None,\n",
       "  'profile_background_image_url_https': None,\n",
       "  'profile_background_tile': False,\n",
       "  'profile_image_url': 'http://pbs.twimg.com/profile_images/1310745918262697990/WFzgjucB_normal.jpg',\n",
       "  'profile_image_url_https': 'https://pbs.twimg.com/profile_images/1310745918262697990/WFzgjucB_normal.jpg',\n",
       "  'profile_banner_url': 'https://pbs.twimg.com/profile_banners/1084234892840484864/1572907249',\n",
       "  'profile_image_extensions_alt_text': None,\n",
       "  'profile_banner_extensions_alt_text': None,\n",
       "  'profile_link_color': '1DA1F2',\n",
       "  'profile_sidebar_border_color': 'C0DEED',\n",
       "  'profile_sidebar_fill_color': 'DDEEF6',\n",
       "  'profile_text_color': '333333',\n",
       "  'profile_use_background_image': True,\n",
       "  'has_extended_profile': False,\n",
       "  'default_profile': True,\n",
       "  'default_profile_image': False,\n",
       "  'following': False,\n",
       "  'follow_request_sent': False,\n",
       "  'notifications': False,\n",
       "  'translator_type': 'none'},\n",
       " 'geo': None,\n",
       " 'coordinates': None,\n",
       " 'place': None,\n",
       " 'contributors': None,\n",
       " 'is_quote_status': True,\n",
       " 'quoted_status_id': 1311068232976080896,\n",
       " 'quoted_status_id_str': '1311068232976080896',\n",
       " 'quoted_status_permalink': {'url': 'https://t.co/GOhLaDJLeN',\n",
       "  'expanded': 'https://twitter.com/JenniferJJacobs/status/1311068232976080896',\n",
       "  'display': 'twitter.com/JenniferJJacob…'},\n",
       " 'quoted_status': {'created_at': 'Tue Sep 29 22:19:59 +0000 2020',\n",
       "  'id': 1311068232976080896,\n",
       "  'id_str': '1311068232976080896',\n",
       "  'full_text': 'Hours before the debate, a Trump camp email goes out: \"I just finished debating Joe Biden.\" https://t.co/4OHQLmLDv9',\n",
       "  'truncated': False,\n",
       "  'display_text_range': [0, 91],\n",
       "  'entities': {'hashtags': [],\n",
       "   'symbols': [],\n",
       "   'user_mentions': [],\n",
       "   'urls': [],\n",
       "   'media': [{'id': 1311068229306126336,\n",
       "     'id_str': '1311068229306126336',\n",
       "     'indices': [92, 115],\n",
       "     'media_url': 'http://pbs.twimg.com/media/EjHZm7QXkAASQa2.jpg',\n",
       "     'media_url_https': 'https://pbs.twimg.com/media/EjHZm7QXkAASQa2.jpg',\n",
       "     'url': 'https://t.co/4OHQLmLDv9',\n",
       "     'display_url': 'pic.twitter.com/4OHQLmLDv9',\n",
       "     'expanded_url': 'https://twitter.com/JenniferJJacobs/status/1311068232976080896/photo/1',\n",
       "     'type': 'photo',\n",
       "     'sizes': {'thumb': {'w': 150, 'h': 150, 'resize': 'crop'},\n",
       "      'large': {'w': 1242, 'h': 1977, 'resize': 'fit'},\n",
       "      'medium': {'w': 754, 'h': 1200, 'resize': 'fit'},\n",
       "      'small': {'w': 427, 'h': 680, 'resize': 'fit'}}}]},\n",
       "  'extended_entities': {'media': [{'id': 1311068229306126336,\n",
       "     'id_str': '1311068229306126336',\n",
       "     'indices': [92, 115],\n",
       "     'media_url': 'http://pbs.twimg.com/media/EjHZm7QXkAASQa2.jpg',\n",
       "     'media_url_https': 'https://pbs.twimg.com/media/EjHZm7QXkAASQa2.jpg',\n",
       "     'url': 'https://t.co/4OHQLmLDv9',\n",
       "     'display_url': 'pic.twitter.com/4OHQLmLDv9',\n",
       "     'expanded_url': 'https://twitter.com/JenniferJJacobs/status/1311068232976080896/photo/1',\n",
       "     'type': 'photo',\n",
       "     'sizes': {'thumb': {'w': 150, 'h': 150, 'resize': 'crop'},\n",
       "      'large': {'w': 1242, 'h': 1977, 'resize': 'fit'},\n",
       "      'medium': {'w': 754, 'h': 1200, 'resize': 'fit'},\n",
       "      'small': {'w': 427, 'h': 680, 'resize': 'fit'}},\n",
       "     'ext_alt_text': None}]},\n",
       "  'source': '<a href=\"http://twitter.com/#!/download/ipad\" rel=\"nofollow\">Twitter for iPad</a>',\n",
       "  'in_reply_to_status_id': None,\n",
       "  'in_reply_to_status_id_str': None,\n",
       "  'in_reply_to_user_id': None,\n",
       "  'in_reply_to_user_id_str': None,\n",
       "  'in_reply_to_screen_name': None,\n",
       "  'user': {'id': 15433452,\n",
       "   'id_str': '15433452',\n",
       "   'name': 'Jennifer Jacobs',\n",
       "   'screen_name': 'JenniferJJacobs',\n",
       "   'location': 'Washington, DC',\n",
       "   'description': 'Sr. White House reporter for Bloomberg News / @business. Reporting what I know, not what I think. jjacobs68@bloomberg.net 💕Iowa',\n",
       "   'url': 'https://t.co/ZoK9ipPasX',\n",
       "   'entities': {'url': {'urls': [{'url': 'https://t.co/ZoK9ipPasX',\n",
       "       'expanded_url': 'http://www.bloomberg.com/politics/',\n",
       "       'display_url': 'bloomberg.com/politics/',\n",
       "       'indices': [0, 23]}]},\n",
       "    'description': {'urls': []}},\n",
       "   'protected': False,\n",
       "   'followers_count': 342624,\n",
       "   'friends_count': 42198,\n",
       "   'listed_count': 4680,\n",
       "   'created_at': 'Mon Jul 14 22:44:34 +0000 2008',\n",
       "   'favourites_count': 2115,\n",
       "   'utc_offset': None,\n",
       "   'time_zone': None,\n",
       "   'geo_enabled': True,\n",
       "   'verified': True,\n",
       "   'statuses_count': 52911,\n",
       "   'lang': None,\n",
       "   'contributors_enabled': False,\n",
       "   'is_translator': False,\n",
       "   'is_translation_enabled': False,\n",
       "   'profile_background_color': 'EDECE9',\n",
       "   'profile_background_image_url': 'http://abs.twimg.com/images/themes/theme1/bg.png',\n",
       "   'profile_background_image_url_https': 'https://abs.twimg.com/images/themes/theme1/bg.png',\n",
       "   'profile_background_tile': False,\n",
       "   'profile_image_url': 'http://pbs.twimg.com/profile_images/739446068589563904/nEs68qdk_normal.jpg',\n",
       "   'profile_image_url_https': 'https://pbs.twimg.com/profile_images/739446068589563904/nEs68qdk_normal.jpg',\n",
       "   'profile_banner_url': 'https://pbs.twimg.com/profile_banners/15433452/1468026333',\n",
       "   'profile_image_extensions_alt_text': None,\n",
       "   'profile_banner_extensions_alt_text': None,\n",
       "   'profile_link_color': '088253',\n",
       "   'profile_sidebar_border_color': 'FFFFFF',\n",
       "   'profile_sidebar_fill_color': 'DDEEF6',\n",
       "   'profile_text_color': '333333',\n",
       "   'profile_use_background_image': True,\n",
       "   'has_extended_profile': False,\n",
       "   'default_profile': False,\n",
       "   'default_profile_image': False,\n",
       "   'following': False,\n",
       "   'follow_request_sent': False,\n",
       "   'notifications': False,\n",
       "   'translator_type': 'none'},\n",
       "  'geo': None,\n",
       "  'coordinates': None,\n",
       "  'place': None,\n",
       "  'contributors': None,\n",
       "  'is_quote_status': False,\n",
       "  'retweet_count': 10802,\n",
       "  'favorite_count': 38011,\n",
       "  'favorited': False,\n",
       "  'retweeted': False,\n",
       "  'possibly_sensitive': False,\n",
       "  'lang': 'en'},\n",
       " 'retweet_count': 1,\n",
       " 'favorite_count': 1,\n",
       " 'favorited': False,\n",
       " 'retweeted': False,\n",
       " 'possibly_sensitive': False,\n",
       " 'lang': 'und'}"
      ]
     },
     "execution_count": 109,
     "metadata": {},
     "output_type": "execute_result"
    }
   ],
   "source": [
    "df.retweeted_status.iloc[1]"
   ]
  },
  {
   "cell_type": "code",
   "execution_count": 110,
   "metadata": {},
   "outputs": [
    {
     "data": {
      "text/plain": [
       "106900"
      ]
     },
     "execution_count": 110,
     "metadata": {},
     "output_type": "execute_result"
    }
   ],
   "source": [
    "# retweeted_status has 106,900 non-null entries\n",
    "df.retweeted_status.notnull().sum()"
   ]
  },
  {
   "cell_type": "code",
   "execution_count": 111,
   "metadata": {},
   "outputs": [
    {
     "data": {
      "text/plain": [
       "33437"
      ]
     },
     "execution_count": 111,
     "metadata": {},
     "output_type": "execute_result"
    }
   ],
   "source": [
    "# retweeted_status has 33,437 non-null entries\n",
    "df.retweeted_status.isna().sum()"
   ]
  },
  {
   "cell_type": "markdown",
   "metadata": {},
   "source": [
    "### *extended_entities (may want to use for separate modeling)"
   ]
  },
  {
   "cell_type": "code",
   "execution_count": 112,
   "metadata": {},
   "outputs": [
    {
     "data": {
      "text/plain": [
       "2         {'media': [{'id': 1310969778111217665, 'id_str...\n",
       "7         {'media': [{'id': 1310422596324913152, 'id_str...\n",
       "15        {'media': [{'id': 1311010866310066177, 'id_str...\n",
       "58        {'media': [{'id': 1311093825117577216, 'id_str...\n",
       "71        {'media': [{'id': 1311082517756342276, 'id_str...\n",
       "                                ...                        \n",
       "140312    {'media': [{'id': 1312158363715764225, 'id_str...\n",
       "140313    {'media': [{'id': 1312118882556051459, 'id_str...\n",
       "140326    {'media': [{'id': 1312180308599398400, 'id_str...\n",
       "140328    {'media': [{'id': 1312038913842634758, 'id_str...\n",
       "140332    {'media': [{'id': 1312158363715764225, 'id_str...\n",
       "Name: extended_entities, Length: 14628, dtype: object"
      ]
     },
     "execution_count": 112,
     "metadata": {},
     "output_type": "execute_result"
    }
   ],
   "source": [
    "df.extended_entities[df.extended_entities.notnull()]"
   ]
  },
  {
   "cell_type": "code",
   "execution_count": 113,
   "metadata": {
    "scrolled": true
   },
   "outputs": [
    {
     "data": {
      "text/plain": [
       "{'media': [{'id': 1310969778111217665,\n",
       "   'id_str': '1310969778111217665',\n",
       "   'indices': [281, 304],\n",
       "   'media_url': 'http://pbs.twimg.com/media/EjGDCRVXYAMRXDI.jpg',\n",
       "   'media_url_https': 'https://pbs.twimg.com/media/EjGDCRVXYAMRXDI.jpg',\n",
       "   'url': 'https://t.co/DKU4ausBzT',\n",
       "   'display_url': 'pic.twitter.com/DKU4ausBzT',\n",
       "   'expanded_url': 'https://twitter.com/Varneyco/status/1311093401652277252/video/1',\n",
       "   'type': 'video',\n",
       "   'sizes': {'thumb': {'w': 150, 'h': 150, 'resize': 'crop'},\n",
       "    'medium': {'w': 1200, 'h': 675, 'resize': 'fit'},\n",
       "    'small': {'w': 680, 'h': 383, 'resize': 'fit'},\n",
       "    'large': {'w': 1280, 'h': 720, 'resize': 'fit'}},\n",
       "   'video_info': {'aspect_ratio': [16, 9],\n",
       "    'duration_millis': 60161,\n",
       "    'variants': [{'content_type': 'application/x-mpegURL',\n",
       "      'url': 'https://video.twimg.com/amplify_video/1310969778111217665/pl/L83AeKfdPkuE5d3A.m3u8?tag=13'},\n",
       "     {'bitrate': 2176000,\n",
       "      'content_type': 'video/mp4',\n",
       "      'url': 'https://video.twimg.com/amplify_video/1310969778111217665/vid/1280x720/gehOLSiJ9_kt565z.mp4?tag=13'},\n",
       "     {'bitrate': 832000,\n",
       "      'content_type': 'video/mp4',\n",
       "      'url': 'https://video.twimg.com/amplify_video/1310969778111217665/vid/640x360/oEGH7vPiNOlFf3_M.mp4?tag=13'},\n",
       "     {'bitrate': 288000,\n",
       "      'content_type': 'video/mp4',\n",
       "      'url': 'https://video.twimg.com/amplify_video/1310969778111217665/vid/480x270/hbMn2lOpf8f2RGsy.mp4?tag=13'}]},\n",
       "   'ext_alt_text': None,\n",
       "   'additional_media_info': {'title': '',\n",
       "    'description': '',\n",
       "    'embeddable': True,\n",
       "    'monetizable': False}}]}"
      ]
     },
     "execution_count": 113,
     "metadata": {},
     "output_type": "execute_result"
    }
   ],
   "source": [
    "df.extended_entities.iloc[2]"
   ]
  },
  {
   "cell_type": "code",
   "execution_count": 114,
   "metadata": {},
   "outputs": [
    {
     "data": {
      "text/plain": [
       "14628"
      ]
     },
     "execution_count": 114,
     "metadata": {},
     "output_type": "execute_result"
    }
   ],
   "source": [
    "# extended_entities has 14,628 non-null entries\n",
    "df.extended_entities.notnull().sum()"
   ]
  },
  {
   "cell_type": "code",
   "execution_count": 115,
   "metadata": {},
   "outputs": [
    {
     "data": {
      "text/plain": [
       "125709"
      ]
     },
     "execution_count": 115,
     "metadata": {},
     "output_type": "execute_result"
    }
   ],
   "source": [
    "# extended_entities has 127,709 non-null entries\n",
    "df.extended_entities.isna().sum()"
   ]
  },
  {
   "cell_type": "markdown",
   "metadata": {},
   "source": [
    "### withheld_in_countries"
   ]
  },
  {
   "cell_type": "code",
   "execution_count": 116,
   "metadata": {},
   "outputs": [
    {
     "data": {
      "text/plain": [
       "1070      [DE, FR]\n",
       "23089         [DE]\n",
       "25972         [DE]\n",
       "31451         [IN]\n",
       "37604         [DE]\n",
       "37901         [DE]\n",
       "42782         [DE]\n",
       "74789         [DE]\n",
       "75440         [DE]\n",
       "75727     [DE, FR]\n",
       "76080         [DE]\n",
       "76210         [DE]\n",
       "81795         [DE]\n",
       "87699         [DE]\n",
       "88029     [DE, FR]\n",
       "88072         [DE]\n",
       "89673         [DE]\n",
       "90186         [DE]\n",
       "91432         [DE]\n",
       "92184         [DE]\n",
       "93942         [DE]\n",
       "94063         [DE]\n",
       "96151         [DE]\n",
       "100703        [DE]\n",
       "106582    [DE, FR]\n",
       "108257        [IN]\n",
       "108536        [TR]\n",
       "109209    [DE, FR]\n",
       "119001    [DE, FR]\n",
       "119658        [DE]\n",
       "124428        [DE]\n",
       "128329        [DE]\n",
       "129380    [DE, FR]\n",
       "130876    [DE, FR]\n",
       "135105    [DE, FR]\n",
       "136603    [DE, FR]\n",
       "Name: withheld_in_countries, dtype: object"
      ]
     },
     "execution_count": 116,
     "metadata": {},
     "output_type": "execute_result"
    }
   ],
   "source": [
    "df.withheld_in_countries[df.withheld_in_countries.notnull()]"
   ]
  },
  {
   "cell_type": "code",
   "execution_count": 117,
   "metadata": {},
   "outputs": [
    {
     "data": {
      "text/plain": [
       "36"
      ]
     },
     "execution_count": 117,
     "metadata": {},
     "output_type": "execute_result"
    }
   ],
   "source": [
    "# withheld_in_countries has 36 non-null entries\n",
    "df.withheld_in_countries.notnull().sum()"
   ]
  },
  {
   "cell_type": "code",
   "execution_count": 118,
   "metadata": {},
   "outputs": [
    {
     "data": {
      "text/plain": [
       "140301"
      ]
     },
     "execution_count": 118,
     "metadata": {},
     "output_type": "execute_result"
    }
   ],
   "source": [
    "# withheld_in_countries has 140,301 null entries\n",
    "df.withheld_in_countries.isna().sum()"
   ]
  }
 ],
 "metadata": {
  "kernelspec": {
   "display_name": "Python 3",
   "language": "python",
   "name": "python3"
  },
  "language_info": {
   "codemirror_mode": {
    "name": "ipython",
    "version": 3
   },
   "file_extension": ".py",
   "mimetype": "text/x-python",
   "name": "python",
   "nbconvert_exporter": "python",
   "pygments_lexer": "ipython3",
   "version": "3.8.5"
  }
 },
 "nbformat": 4,
 "nbformat_minor": 4
}
